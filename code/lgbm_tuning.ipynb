{
 "cells": [
  {
   "cell_type": "code",
   "execution_count": 1,
   "id": "416519fd",
   "metadata": {},
   "outputs": [],
   "source": [
    "import pandas as pd\n",
    "import numpy as np\n",
    "\n",
    "import matplotlib.pyplot as plt\n",
    "import seaborn as sns\n",
    "\n",
    "from sklearn.metrics import f1_score, recall_score, precision_score\n",
    "from sklearn.pipeline import Pipeline\n",
    "from sklearn.model_selection import RandomizedSearchCV, StratifiedKFold, cross_val_score\n",
    "\n",
    "import FeatureGenerator as fg\n",
    "\n",
    "from lightgbm import LGBMClassifier"
   ]
  },
  {
   "cell_type": "code",
   "execution_count": 2,
   "id": "9f2ae495",
   "metadata": {},
   "outputs": [
    {
     "data": {
      "text/html": [
       "<div>\n",
       "<style scoped>\n",
       "    .dataframe tbody tr th:only-of-type {\n",
       "        vertical-align: middle;\n",
       "    }\n",
       "\n",
       "    .dataframe tbody tr th {\n",
       "        vertical-align: top;\n",
       "    }\n",
       "\n",
       "    .dataframe thead th {\n",
       "        text-align: right;\n",
       "    }\n",
       "</style>\n",
       "<table border=\"1\" class=\"dataframe\">\n",
       "  <thead>\n",
       "    <tr style=\"text-align: right;\">\n",
       "      <th></th>\n",
       "      <th>ID</th>\n",
       "      <th>LIMIT_BAL</th>\n",
       "      <th>SEX</th>\n",
       "      <th>EDUCATION</th>\n",
       "      <th>MARRIAGE</th>\n",
       "      <th>AGE</th>\n",
       "      <th>PAY_0</th>\n",
       "      <th>PAY_2</th>\n",
       "      <th>PAY_3</th>\n",
       "      <th>PAY_4</th>\n",
       "      <th>...</th>\n",
       "      <th>BILL_AMT4</th>\n",
       "      <th>BILL_AMT5</th>\n",
       "      <th>BILL_AMT6</th>\n",
       "      <th>PAY_AMT1</th>\n",
       "      <th>PAY_AMT2</th>\n",
       "      <th>PAY_AMT3</th>\n",
       "      <th>PAY_AMT4</th>\n",
       "      <th>PAY_AMT5</th>\n",
       "      <th>PAY_AMT6</th>\n",
       "      <th>target</th>\n",
       "    </tr>\n",
       "  </thead>\n",
       "  <tbody>\n",
       "    <tr>\n",
       "      <th>0</th>\n",
       "      <td>28104</td>\n",
       "      <td>50000.0</td>\n",
       "      <td>2</td>\n",
       "      <td>1</td>\n",
       "      <td>1</td>\n",
       "      <td>31</td>\n",
       "      <td>1</td>\n",
       "      <td>2</td>\n",
       "      <td>2</td>\n",
       "      <td>0</td>\n",
       "      <td>...</td>\n",
       "      <td>50332.0</td>\n",
       "      <td>29690.0</td>\n",
       "      <td>30246.0</td>\n",
       "      <td>2200.0</td>\n",
       "      <td>4.0</td>\n",
       "      <td>2300.0</td>\n",
       "      <td>1100.0</td>\n",
       "      <td>1400.0</td>\n",
       "      <td>1200.0</td>\n",
       "      <td>1</td>\n",
       "    </tr>\n",
       "    <tr>\n",
       "      <th>1</th>\n",
       "      <td>29094</td>\n",
       "      <td>330000.0</td>\n",
       "      <td>2</td>\n",
       "      <td>2</td>\n",
       "      <td>2</td>\n",
       "      <td>59</td>\n",
       "      <td>0</td>\n",
       "      <td>0</td>\n",
       "      <td>0</td>\n",
       "      <td>0</td>\n",
       "      <td>...</td>\n",
       "      <td>80589.0</td>\n",
       "      <td>76180.0</td>\n",
       "      <td>61693.0</td>\n",
       "      <td>20000.0</td>\n",
       "      <td>3500.0</td>\n",
       "      <td>19000.0</td>\n",
       "      <td>15000.0</td>\n",
       "      <td>3000.0</td>\n",
       "      <td>2139.0</td>\n",
       "      <td>0</td>\n",
       "    </tr>\n",
       "    <tr>\n",
       "      <th>2</th>\n",
       "      <td>11280</td>\n",
       "      <td>220000.0</td>\n",
       "      <td>2</td>\n",
       "      <td>1</td>\n",
       "      <td>2</td>\n",
       "      <td>41</td>\n",
       "      <td>-1</td>\n",
       "      <td>-1</td>\n",
       "      <td>-2</td>\n",
       "      <td>-2</td>\n",
       "      <td>...</td>\n",
       "      <td>0.0</td>\n",
       "      <td>0.0</td>\n",
       "      <td>0.0</td>\n",
       "      <td>0.0</td>\n",
       "      <td>0.0</td>\n",
       "      <td>0.0</td>\n",
       "      <td>0.0</td>\n",
       "      <td>0.0</td>\n",
       "      <td>0.0</td>\n",
       "      <td>0</td>\n",
       "    </tr>\n",
       "    <tr>\n",
       "      <th>3</th>\n",
       "      <td>28435</td>\n",
       "      <td>50000.0</td>\n",
       "      <td>2</td>\n",
       "      <td>2</td>\n",
       "      <td>1</td>\n",
       "      <td>45</td>\n",
       "      <td>0</td>\n",
       "      <td>0</td>\n",
       "      <td>0</td>\n",
       "      <td>0</td>\n",
       "      <td>...</td>\n",
       "      <td>8469.0</td>\n",
       "      <td>8411.0</td>\n",
       "      <td>8361.0</td>\n",
       "      <td>2124.0</td>\n",
       "      <td>2037.0</td>\n",
       "      <td>1130.0</td>\n",
       "      <td>295.0</td>\n",
       "      <td>302.0</td>\n",
       "      <td>296.0</td>\n",
       "      <td>0</td>\n",
       "    </tr>\n",
       "    <tr>\n",
       "      <th>4</th>\n",
       "      <td>10873</td>\n",
       "      <td>480000.0</td>\n",
       "      <td>2</td>\n",
       "      <td>3</td>\n",
       "      <td>1</td>\n",
       "      <td>42</td>\n",
       "      <td>-2</td>\n",
       "      <td>-2</td>\n",
       "      <td>-2</td>\n",
       "      <td>-2</td>\n",
       "      <td>...</td>\n",
       "      <td>0.0</td>\n",
       "      <td>790.0</td>\n",
       "      <td>0.0</td>\n",
       "      <td>0.0</td>\n",
       "      <td>0.0</td>\n",
       "      <td>0.0</td>\n",
       "      <td>790.0</td>\n",
       "      <td>0.0</td>\n",
       "      <td>0.0</td>\n",
       "      <td>0</td>\n",
       "    </tr>\n",
       "  </tbody>\n",
       "</table>\n",
       "<p>5 rows × 25 columns</p>\n",
       "</div>"
      ],
      "text/plain": [
       "      ID  LIMIT_BAL  SEX  EDUCATION  MARRIAGE  AGE  PAY_0  PAY_2  PAY_3  \\\n",
       "0  28104    50000.0    2          1         1   31      1      2      2   \n",
       "1  29094   330000.0    2          2         2   59      0      0      0   \n",
       "2  11280   220000.0    2          1         2   41     -1     -1     -2   \n",
       "3  28435    50000.0    2          2         1   45      0      0      0   \n",
       "4  10873   480000.0    2          3         1   42     -2     -2     -2   \n",
       "\n",
       "   PAY_4  ...  BILL_AMT4  BILL_AMT5  BILL_AMT6  PAY_AMT1  PAY_AMT2  PAY_AMT3  \\\n",
       "0      0  ...    50332.0    29690.0    30246.0    2200.0       4.0    2300.0   \n",
       "1      0  ...    80589.0    76180.0    61693.0   20000.0    3500.0   19000.0   \n",
       "2     -2  ...        0.0        0.0        0.0       0.0       0.0       0.0   \n",
       "3      0  ...     8469.0     8411.0     8361.0    2124.0    2037.0    1130.0   \n",
       "4     -2  ...        0.0      790.0        0.0       0.0       0.0       0.0   \n",
       "\n",
       "   PAY_AMT4  PAY_AMT5  PAY_AMT6  target  \n",
       "0    1100.0    1400.0    1200.0       1  \n",
       "1   15000.0    3000.0    2139.0       0  \n",
       "2       0.0       0.0       0.0       0  \n",
       "3     295.0     302.0     296.0       0  \n",
       "4     790.0       0.0       0.0       0  \n",
       "\n",
       "[5 rows x 25 columns]"
      ]
     },
     "execution_count": 2,
     "metadata": {},
     "output_type": "execute_result"
    }
   ],
   "source": [
    "data_path = \"../inputs/train.csv\"\n",
    "df_train = pd.read_csv(data_path)\n",
    "df_train.head()"
   ]
  },
  {
   "cell_type": "code",
   "execution_count": 3,
   "id": "72c3f36b",
   "metadata": {},
   "outputs": [],
   "source": [
    "#selecionando as variáveis categóricas para definir no modelo\n",
    "cat_cols = ['SEX',\n",
    " 'EDUCATION',\n",
    " 'MARRIAGE',\n",
    " 'PAY_0',\n",
    " 'PAY_2',\n",
    " 'PAY_3',\n",
    " 'PAY_4',\n",
    " 'PAY_5',\n",
    " 'PAY_6']"
   ]
  },
  {
   "cell_type": "code",
   "execution_count": 4,
   "id": "471f0721",
   "metadata": {},
   "outputs": [],
   "source": [
    "selected_features = ['BILL_AMT2_minus_BILL_AMT1',\n",
    " 'PAY_AMT5/BILL_AMT5',\n",
    " 'PAY_AMT6/BILL_AMT6',\n",
    " 'BILL_AMT3_minus_BILL_AMT2',\n",
    " 'PAY_AMT4/BILL_AMT4',\n",
    " 'PAY_AMT1/BILL_AMT1',\n",
    " 'PAY_AMT4_minus_PAY_AMT3',\n",
    " 'PAY_AMT2/BILL_AMT2',\n",
    " 'BILL_AMT5_minus_BILL_AMT4',\n",
    " 'BILL_AMT4_minus_BILL_AMT3',\n",
    " 'AGE',\n",
    " 'BILL_AMT6_minus_BILL_AMT5',\n",
    " 'PAY_AMT3/BILL_AMT3',\n",
    " 'PAY_AMT2_minus_PAY_AMT1',\n",
    " 'PAY_AMT6_minus_PAY_AMT5',\n",
    " 'PAY_AMT5_minus_PAY_AMT4',\n",
    " 'LIMIT_BAL/EDUCATION_max',\n",
    " 'PAY_AMT2',\n",
    " 'PAY_AMT3_minus_PAY_AMT2',\n",
    " 'LIMIT_BAL/EDUCATION_mean',\n",
    " 'PAY_AMT1',\n",
    " 'BILL_AMT5/EDUCATION_min',\n",
    " 'LIMIT_BAL',\n",
    " 'PAY_AMT6',\n",
    " 'PAY_0',\n",
    " 'PAY_AMT3',\n",
    " 'PAY_AMT4',\n",
    " 'BILL_AMT1',\n",
    " 'PAY_AMT5',\n",
    " 'BILL_AMT1/EDUCATION_max',\n",
    " 'BILL_AMT4/EDUCATION_min',\n",
    " 'BILL_AMT2/EDUCATION_min',\n",
    " 'BILL_AMT3/EDUCATION_min',\n",
    " 'BILL_AMT6/EDUCATION_min']"
   ]
  },
  {
   "cell_type": "code",
   "execution_count": 5,
   "id": "cda8670c",
   "metadata": {},
   "outputs": [],
   "source": [
    "#inicializando as classes que serão utilizadas para geração de features\n",
    "fbf = fg.FeatureByFeature(features_num=[\"PAY_AMT1\", \"PAY_AMT2\", \"PAY_AMT3\", \"PAY_AMT4\", \"PAY_AMT5\", \"PAY_AMT6\"],\n",
    "                         features_denom=[\"BILL_AMT1\", \"BILL_AMT2\", \"BILL_AMT3\", \"BILL_AMT4\", \"BILL_AMT5\", \"BILL_AMT6\"])\n",
    "\n",
    "diff1 = fg.DiffFeatures(features=[\"PAY_AMT1\", \"PAY_AMT2\", \"PAY_AMT3\", \"PAY_AMT4\", \"PAY_AMT5\", \"PAY_AMT6\"])\n",
    "\n",
    "diff2 = fg.DiffFeatures(features=[\"BILL_AMT1\", \"BILL_AMT2\", \"BILL_AMT3\", \"BILL_AMT4\", \"BILL_AMT5\", \"BILL_AMT6\"])\n",
    "\n",
    "agpf = fg.GroupFeatures(group_columns=[\"EDUCATION\"], features=[\"LIMIT_BAL\", \"BILL_AMT1\", \n",
    "                                                               \"BILL_AMT2\", \"BILL_AMT3\", \"BILL_AMT4\", \n",
    "                                                               \"BILL_AMT5\", \"BILL_AMT6\"])\n",
    "final_features = fg.FinalFeatures(features=selected_features)"
   ]
  },
  {
   "cell_type": "code",
   "execution_count": 6,
   "id": "c6dc1f8b",
   "metadata": {},
   "outputs": [],
   "source": [
    "X_train, y_train = df_train.drop(columns=[\"ID\", \"target\"], axis=1), df_train.target.values"
   ]
  },
  {
   "cell_type": "code",
   "execution_count": 7,
   "id": "f93e86c6",
   "metadata": {},
   "outputs": [],
   "source": [
    "base_estimator = LGBMClassifier(class_weight=\"balanced\",\n",
    "                               random_state=42)"
   ]
  },
  {
   "cell_type": "code",
   "execution_count": 8,
   "id": "062b377d",
   "metadata": {},
   "outputs": [],
   "source": [
    "pipe = Pipeline(steps=[(\"FeatureByFeature\", fbf),\n",
    "                      (\"diff_features1\", diff1),\n",
    "                      (\"diff_features2\", diff2),\n",
    "                      (\"aggrouped_features\", agpf),\n",
    "                      (\"FinalFeatures\", final_features),\n",
    "                      (\"Estimator\", base_estimator)])"
   ]
  },
  {
   "cell_type": "code",
   "execution_count": 9,
   "id": "ce506ec9",
   "metadata": {},
   "outputs": [],
   "source": [
    "cross_val = StratifiedKFold(n_splits=5, shuffle=True, random_state=42)"
   ]
  },
  {
   "cell_type": "code",
   "execution_count": 20,
   "id": "aa416c6f",
   "metadata": {},
   "outputs": [
    {
     "name": "stdout",
     "output_type": "stream",
     "text": [
      "[0.54968492 0.50482625 0.53438662 0.53012048 0.55875183]\n"
     ]
    }
   ],
   "source": [
    "print(cross_val_score(pipe, X_train, y_train, cv=cross_val, scoring=\"f1\"))"
   ]
  },
  {
   "cell_type": "code",
   "execution_count": 11,
   "id": "cd643226",
   "metadata": {},
   "outputs": [
    {
     "name": "stdout",
     "output_type": "stream",
     "text": [
      "0.530787764\n"
     ]
    }
   ],
   "source": [
    "print(np.mean([0.54545455, 0.51622566, 0.53697598, 0.50964869, 0.54563394]))"
   ]
  },
  {
   "cell_type": "code",
   "execution_count": 12,
   "id": "d30efa71",
   "metadata": {},
   "outputs": [],
   "source": [
    "distributions = {\"Estimator__n_estimators\": [100, 200, 300, 500, 650, 800, 1000, 1200, 1600, 2000],\n",
    "                \"Estimator__colsample_bytree\": [0.1, 0.2, 0.3, 0.4, 0.5, 0.6, 0.7, 0.8, None],\n",
    "                \"Estimator__max_depth\": [2, 4, 6, 8, 10, 12, 16, None],\n",
    "                \"Estimator__num_leaves\": [8, 10, 12, 16, 20, 31, 41, 51, 61],\n",
    "                \"Estimator__min_child_samples\": [20, 30, 40, 50, 60, 80, 100],\n",
    "                \"Estimator__reg_alpha\": [2, 4, 6, 8, 10, 12, 16],\n",
    "                \"Estimator__reg_lambda\": [2, 4, 6, 8, 10, 12, 16],\n",
    "                \"Estimator__learning_rate\": [0.3, 0.1, 0.08, 0.06, 0.04, 0.03, 0.02, 0.01, 0.008, 0.005]}"
   ]
  },
  {
   "cell_type": "code",
   "execution_count": 13,
   "id": "c65da6b2",
   "metadata": {},
   "outputs": [],
   "source": [
    "clf = RandomizedSearchCV(pipe, distributions, cv=cross_val, scoring=\"f1\")"
   ]
  },
  {
   "cell_type": "code",
   "execution_count": 14,
   "id": "f514f6c6",
   "metadata": {},
   "outputs": [
    {
     "data": {
      "text/plain": [
       "RandomizedSearchCV(cv=StratifiedKFold(n_splits=5, random_state=42, shuffle=True),\n",
       "                   estimator=Pipeline(steps=[('FeatureByFeature',\n",
       "                                              FeatureByFeature(features_denom=['BILL_AMT1',\n",
       "                                                                               'BILL_AMT2',\n",
       "                                                                               'BILL_AMT3',\n",
       "                                                                               'BILL_AMT4',\n",
       "                                                                               'BILL_AMT5',\n",
       "                                                                               'BILL_AMT6'],\n",
       "                                                               features_num=['PAY_AMT1',\n",
       "                                                                             'PAY_AMT2',\n",
       "                                                                             'PAY_AMT3',\n",
       "                                                                             'PAY_AMT4',\n",
       "                                                                             'PAY_AMT5',\n",
       "                                                                             'PAY_AMT6'])),\n",
       "                                             ('diff_features1',\n",
       "                                              DiffFeatures(featu...\n",
       "                                                                     0.008,\n",
       "                                                                     0.005],\n",
       "                                        'Estimator__max_depth': [2, 4, 6, 8, 10,\n",
       "                                                                 12, 16, None],\n",
       "                                        'Estimator__min_child_samples': [20, 30,\n",
       "                                                                         40, 50,\n",
       "                                                                         60, 80,\n",
       "                                                                         100],\n",
       "                                        'Estimator__n_estimators': [100, 200,\n",
       "                                                                    300, 500,\n",
       "                                                                    650, 800,\n",
       "                                                                    1000, 1200,\n",
       "                                                                    1600,\n",
       "                                                                    2000],\n",
       "                                        'Estimator__num_leaves': [8, 10, 12, 16,\n",
       "                                                                  20, 31, 41,\n",
       "                                                                  51, 61],\n",
       "                                        'Estimator__reg_alpha': [2, 4, 6, 8, 10,\n",
       "                                                                 12, 16],\n",
       "                                        'Estimator__reg_lambda': [2, 4, 6, 8,\n",
       "                                                                  10, 12, 16]},\n",
       "                   random_state=42, scoring='f1')"
      ]
     },
     "execution_count": 14,
     "metadata": {},
     "output_type": "execute_result"
    }
   ],
   "source": [
    "clf.fit(X_train, y_train)"
   ]
  },
  {
   "cell_type": "code",
   "execution_count": 15,
   "id": "29afb447",
   "metadata": {},
   "outputs": [
    {
     "data": {
      "text/html": [
       "<div>\n",
       "<style scoped>\n",
       "    .dataframe tbody tr th:only-of-type {\n",
       "        vertical-align: middle;\n",
       "    }\n",
       "\n",
       "    .dataframe tbody tr th {\n",
       "        vertical-align: top;\n",
       "    }\n",
       "\n",
       "    .dataframe thead th {\n",
       "        text-align: right;\n",
       "    }\n",
       "</style>\n",
       "<table border=\"1\" class=\"dataframe\">\n",
       "  <thead>\n",
       "    <tr style=\"text-align: right;\">\n",
       "      <th></th>\n",
       "      <th>mean_fit_time</th>\n",
       "      <th>std_fit_time</th>\n",
       "      <th>mean_score_time</th>\n",
       "      <th>std_score_time</th>\n",
       "      <th>param_Estimator__reg_lambda</th>\n",
       "      <th>param_Estimator__reg_alpha</th>\n",
       "      <th>param_Estimator__num_leaves</th>\n",
       "      <th>param_Estimator__n_estimators</th>\n",
       "      <th>param_Estimator__min_child_samples</th>\n",
       "      <th>param_Estimator__max_depth</th>\n",
       "      <th>...</th>\n",
       "      <th>param_Estimator__colsample_bytree</th>\n",
       "      <th>params</th>\n",
       "      <th>split0_test_score</th>\n",
       "      <th>split1_test_score</th>\n",
       "      <th>split2_test_score</th>\n",
       "      <th>split3_test_score</th>\n",
       "      <th>split4_test_score</th>\n",
       "      <th>mean_test_score</th>\n",
       "      <th>std_test_score</th>\n",
       "      <th>rank_test_score</th>\n",
       "    </tr>\n",
       "  </thead>\n",
       "  <tbody>\n",
       "    <tr>\n",
       "      <th>6</th>\n",
       "      <td>2.561758</td>\n",
       "      <td>0.024049</td>\n",
       "      <td>0.163403</td>\n",
       "      <td>0.019012</td>\n",
       "      <td>10</td>\n",
       "      <td>2</td>\n",
       "      <td>12</td>\n",
       "      <td>800</td>\n",
       "      <td>40</td>\n",
       "      <td>2</td>\n",
       "      <td>...</td>\n",
       "      <td>None</td>\n",
       "      <td>{'Estimator__reg_lambda': 10, 'Estimator__reg_...</td>\n",
       "      <td>0.549685</td>\n",
       "      <td>0.504826</td>\n",
       "      <td>0.534387</td>\n",
       "      <td>0.530120</td>\n",
       "      <td>0.558752</td>\n",
       "      <td>0.535554</td>\n",
       "      <td>0.018509</td>\n",
       "      <td>1</td>\n",
       "    </tr>\n",
       "    <tr>\n",
       "      <th>5</th>\n",
       "      <td>3.122867</td>\n",
       "      <td>0.012904</td>\n",
       "      <td>0.229749</td>\n",
       "      <td>0.007880</td>\n",
       "      <td>12</td>\n",
       "      <td>6</td>\n",
       "      <td>16</td>\n",
       "      <td>500</td>\n",
       "      <td>100</td>\n",
       "      <td>None</td>\n",
       "      <td>...</td>\n",
       "      <td>0.4</td>\n",
       "      <td>{'Estimator__reg_lambda': 12, 'Estimator__reg_...</td>\n",
       "      <td>0.556341</td>\n",
       "      <td>0.512649</td>\n",
       "      <td>0.533875</td>\n",
       "      <td>0.522145</td>\n",
       "      <td>0.551433</td>\n",
       "      <td>0.535289</td>\n",
       "      <td>0.016680</td>\n",
       "      <td>2</td>\n",
       "    </tr>\n",
       "    <tr>\n",
       "      <th>7</th>\n",
       "      <td>0.902636</td>\n",
       "      <td>0.025363</td>\n",
       "      <td>0.094528</td>\n",
       "      <td>0.014297</td>\n",
       "      <td>12</td>\n",
       "      <td>10</td>\n",
       "      <td>16</td>\n",
       "      <td>100</td>\n",
       "      <td>20</td>\n",
       "      <td>12</td>\n",
       "      <td>...</td>\n",
       "      <td>0.5</td>\n",
       "      <td>{'Estimator__reg_lambda': 12, 'Estimator__reg_...</td>\n",
       "      <td>0.550503</td>\n",
       "      <td>0.519828</td>\n",
       "      <td>0.542558</td>\n",
       "      <td>0.519077</td>\n",
       "      <td>0.542723</td>\n",
       "      <td>0.534938</td>\n",
       "      <td>0.012968</td>\n",
       "      <td>3</td>\n",
       "    </tr>\n",
       "  </tbody>\n",
       "</table>\n",
       "<p>3 rows × 21 columns</p>\n",
       "</div>"
      ],
      "text/plain": [
       "   mean_fit_time  std_fit_time  mean_score_time  std_score_time  \\\n",
       "6       2.561758      0.024049         0.163403        0.019012   \n",
       "5       3.122867      0.012904         0.229749        0.007880   \n",
       "7       0.902636      0.025363         0.094528        0.014297   \n",
       "\n",
       "  param_Estimator__reg_lambda param_Estimator__reg_alpha  \\\n",
       "6                          10                          2   \n",
       "5                          12                          6   \n",
       "7                          12                         10   \n",
       "\n",
       "  param_Estimator__num_leaves param_Estimator__n_estimators  \\\n",
       "6                          12                           800   \n",
       "5                          16                           500   \n",
       "7                          16                           100   \n",
       "\n",
       "  param_Estimator__min_child_samples param_Estimator__max_depth  ...  \\\n",
       "6                                 40                          2  ...   \n",
       "5                                100                       None  ...   \n",
       "7                                 20                         12  ...   \n",
       "\n",
       "  param_Estimator__colsample_bytree  \\\n",
       "6                              None   \n",
       "5                               0.4   \n",
       "7                               0.5   \n",
       "\n",
       "                                              params split0_test_score  \\\n",
       "6  {'Estimator__reg_lambda': 10, 'Estimator__reg_...          0.549685   \n",
       "5  {'Estimator__reg_lambda': 12, 'Estimator__reg_...          0.556341   \n",
       "7  {'Estimator__reg_lambda': 12, 'Estimator__reg_...          0.550503   \n",
       "\n",
       "   split1_test_score  split2_test_score  split3_test_score  split4_test_score  \\\n",
       "6           0.504826           0.534387           0.530120           0.558752   \n",
       "5           0.512649           0.533875           0.522145           0.551433   \n",
       "7           0.519828           0.542558           0.519077           0.542723   \n",
       "\n",
       "   mean_test_score  std_test_score  rank_test_score  \n",
       "6         0.535554        0.018509                1  \n",
       "5         0.535289        0.016680                2  \n",
       "7         0.534938        0.012968                3  \n",
       "\n",
       "[3 rows x 21 columns]"
      ]
     },
     "execution_count": 15,
     "metadata": {},
     "output_type": "execute_result"
    }
   ],
   "source": [
    "results = pd.DataFrame(clf.cv_results_)\n",
    "results = results.sort_values(by=\"rank_test_score\", ascending=True)\n",
    "results.head(3)"
   ]
  },
  {
   "cell_type": "code",
   "execution_count": 16,
   "id": "d25c451a",
   "metadata": {
    "scrolled": true
   },
   "outputs": [
    {
     "data": {
      "text/plain": [
       "{'Estimator__reg_lambda': 10,\n",
       " 'Estimator__reg_alpha': 2,\n",
       " 'Estimator__num_leaves': 12,\n",
       " 'Estimator__n_estimators': 800,\n",
       " 'Estimator__min_child_samples': 40,\n",
       " 'Estimator__max_depth': 2,\n",
       " 'Estimator__learning_rate': 0.02,\n",
       " 'Estimator__colsample_bytree': None}"
      ]
     },
     "execution_count": 16,
     "metadata": {},
     "output_type": "execute_result"
    }
   ],
   "source": [
    "clf.best_params_"
   ]
  },
  {
   "cell_type": "code",
   "execution_count": 17,
   "id": "c2c252c7",
   "metadata": {},
   "outputs": [],
   "source": [
    "selected_params = {'reg_lambda': 10,\n",
    " 'reg_alpha': 2,\n",
    " 'num_leaves': 12,\n",
    " 'n_estimators': 800,\n",
    " 'min_child_samples': 40,\n",
    " 'max_depth': 2,\n",
    " 'learning_rate': 0.02,\n",
    " 'colsample_bytree': None}"
   ]
  },
  {
   "cell_type": "code",
   "execution_count": 18,
   "id": "d223b7b6",
   "metadata": {},
   "outputs": [],
   "source": [
    "estimator = LGBMClassifier(**selected_params,\n",
    "                           class_weight=\"balanced\",\n",
    "                           random_state=42)"
   ]
  },
  {
   "cell_type": "code",
   "execution_count": 19,
   "id": "8bfdb1e6",
   "metadata": {},
   "outputs": [],
   "source": [
    "pipe = Pipeline(steps=[(\"FeatureByFeature\", fbf),\n",
    "                      (\"diff_features1\", diff1),\n",
    "                      (\"diff_features2\", diff2),\n",
    "                      (\"aggrouped_features\", agpf),\n",
    "                      (\"FinalFeatures\", final_features),\n",
    "                      (\"Estimator\", estimator)])"
   ]
  },
  {
   "cell_type": "code",
   "execution_count": 21,
   "id": "e1a84bd0",
   "metadata": {},
   "outputs": [
    {
     "name": "stdout",
     "output_type": "stream",
     "text": [
      "[0.54968492 0.50482625 0.53438662 0.53012048 0.55875183]\n"
     ]
    }
   ],
   "source": [
    "print(cross_val_score(pipe, X_train, y_train, cv=cross_val, scoring=\"f1\"))"
   ]
  },
  {
   "cell_type": "code",
   "execution_count": 22,
   "id": "fcecdad0",
   "metadata": {},
   "outputs": [
    {
     "name": "stdout",
     "output_type": "stream",
     "text": [
      "0.53555402\n"
     ]
    }
   ],
   "source": [
    "print(np.mean([0.54968492, 0.50482625, 0.53438662, 0.53012048, 0.55875183]))"
   ]
  },
  {
   "cell_type": "code",
   "execution_count": 23,
   "id": "2f00854c",
   "metadata": {},
   "outputs": [],
   "source": [
    "def prob2class(value, thresh):\n",
    "    if value > thresh:\n",
    "        return 1\n",
    "    else:\n",
    "        return 0"
   ]
  },
  {
   "cell_type": "code",
   "execution_count": 25,
   "id": "150bd872",
   "metadata": {},
   "outputs": [],
   "source": [
    "eval_set = pd.read_csv(\"../inputs/validation.csv\")"
   ]
  },
  {
   "cell_type": "code",
   "execution_count": 26,
   "id": "6691e545",
   "metadata": {},
   "outputs": [],
   "source": [
    "X_val, y_val = eval_set.drop(columns=\"target\", axis=1), eval_set.target.values"
   ]
  },
  {
   "cell_type": "code",
   "execution_count": 28,
   "id": "16bee49f",
   "metadata": {},
   "outputs": [
    {
     "data": {
      "text/plain": [
       "Pipeline(steps=[('FeatureByFeature',\n",
       "                 FeatureByFeature(features_denom=['BILL_AMT1', 'BILL_AMT2',\n",
       "                                                  'BILL_AMT3', 'BILL_AMT4',\n",
       "                                                  'BILL_AMT5', 'BILL_AMT6'],\n",
       "                                  features_num=['PAY_AMT1', 'PAY_AMT2',\n",
       "                                                'PAY_AMT3', 'PAY_AMT4',\n",
       "                                                'PAY_AMT5', 'PAY_AMT6'])),\n",
       "                ('diff_features1',\n",
       "                 DiffFeatures(features=['PAY_AMT1', 'PAY_AMT2', 'PAY_AMT3',\n",
       "                                        'PAY_AMT4', 'PAY_AMT5', 'PAY_AMT6'])),\n",
       "                ('diff_features...\n",
       "                                         'LIMIT_BAL/EDUCATION_mean', 'PAY_AMT1',\n",
       "                                         'BILL_AMT5/EDUCATION_min', 'LIMIT_BAL',\n",
       "                                         'PAY_AMT6', 'PAY_0', 'PAY_AMT3',\n",
       "                                         'PAY_AMT4', 'BILL_AMT1', 'PAY_AMT5',\n",
       "                                         'BILL_AMT1/EDUCATION_max', ...])),\n",
       "                ('Estimator',\n",
       "                 LGBMClassifier(class_weight='balanced', colsample_bytree=None,\n",
       "                                learning_rate=0.02, max_depth=2,\n",
       "                                min_child_samples=40, n_estimators=800,\n",
       "                                num_leaves=12, random_state=42, reg_alpha=2,\n",
       "                                reg_lambda=10))])"
      ]
     },
     "execution_count": 28,
     "metadata": {},
     "output_type": "execute_result"
    }
   ],
   "source": [
    "pipe.fit(X_train, y_train)"
   ]
  },
  {
   "cell_type": "code",
   "execution_count": 50,
   "id": "351be941",
   "metadata": {},
   "outputs": [],
   "source": [
    "y_proba = pipe.predict_proba(X_val)\n",
    "y_proba = [p[1] for p in y_proba]\n",
    "X_val[\"probability\"] = y_proba"
   ]
  },
  {
   "cell_type": "code",
   "execution_count": 51,
   "id": "e649f2c8",
   "metadata": {},
   "outputs": [],
   "source": [
    "thresholds = [0.3, 0.35, 0.4, 0.45, 0.5, 0.55, 0.6, 0.65, 0.7, 0.75, 0.8, 0.85]\n",
    "f1s = []"
   ]
  },
  {
   "cell_type": "code",
   "execution_count": 52,
   "id": "a50ee826",
   "metadata": {},
   "outputs": [],
   "source": [
    "for t in thresholds:\n",
    "    X_val[\"prediction\"] = X_val.apply(lambda x: prob2class(x[\"probability\"], thresh=t), axis=1)\n",
    "    y_pred = X_val[\"prediction\"].values\n",
    "    \n",
    "    f1 = f1_score(y_val, y_pred)\n",
    "    f1s.append(f1)"
   ]
  },
  {
   "cell_type": "code",
   "execution_count": 54,
   "id": "28a34d4c",
   "metadata": {},
   "outputs": [
    {
     "data": {
      "text/plain": [
       "Text(0.5, 1.0, 'Threshold selection for f1_score')"
      ]
     },
     "execution_count": 54,
     "metadata": {},
     "output_type": "execute_result"
    },
    {
     "data": {
      "image/png": "[encoded data removed]",
      "text/plain": [
       "<Figure size 1000x400 with 1 Axes>"
      ]
     },
     "metadata": {},
     "output_type": "display_data"
    }
   ],
   "source": [
    "plt.figure(figsize=(10, 4))\n",
    "sns.lineplot(x=thresholds, y=f1s, marker='o')\n",
    "plt.xlabel(\"thresholds\")\n",
    "plt.ylabel(\"f1_score\")\n",
    "plt.title(\"Threshold selection for f1_score\")"
   ]
  },
  {
   "cell_type": "code",
   "execution_count": null,
   "id": "e8317ea4",
   "metadata": {},
   "outputs": [],
   "source": []
  }
 ],
 "metadata": {
  "kernelspec": {
   "display_name": "Python 3 (ipykernel)",
   "language": "python",
   "name": "python3"
  },
  "language_info": {
   "codemirror_mode": {
    "name": "ipython",
    "version": 3
   },
   "file_extension": ".py",
   "mimetype": "text/x-python",
   "name": "python",
   "nbconvert_exporter": "python",
   "pygments_lexer": "ipython3",
   "version": "3.9.13"
  }
 },
 "nbformat": 4,
 "nbformat_minor": 5
}
