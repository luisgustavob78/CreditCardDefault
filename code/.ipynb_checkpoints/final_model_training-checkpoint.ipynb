{
 "cells": [
  {
   "cell_type": "markdown",
   "id": "2cf7fdd2",
   "metadata": {},
   "source": [
    "# Treinamento do modelo final\n",
    "\n",
    "Até aqui, todos os nossos desenvolvimentos se basearam em treinar o modelo em uma base de treino, tendo uma base de validação para avaliar o modelo ao final de tudo. Nesse momento, onde já temos todas as definições em relação à modelagem, vamos treinar o modelo com a configuração escolhida em toda a base disponível."
   ]
  },
  {
   "cell_type": "code",
   "execution_count": 1,
   "id": "75266185",
   "metadata": {},
   "outputs": [],
   "source": [
    "#carregando as bibliotecas necessárias\n",
    "import pandas as pd\n",
    "import numpy as np\n",
    "\n",
    "import matplotlib.pyplot as plt\n",
    "import seaborn as sns\n",
    "\n",
    "from sklearn.metrics import f1_score, recall_score, precision_score\n",
    "from sklearn.pipeline import Pipeline\n",
    "from sklearn.model_selection import RandomizedSearchCV, StratifiedKFold, cross_val_score\n",
    "\n",
    "import FeatureGenerator as fg\n",
    "\n",
    "from joblib import dump, load\n",
    "\n",
    "from lightgbm import LGBMClassifier"
   ]
  },
  {
   "cell_type": "code",
   "execution_count": 2,
   "id": "5b38d316",
   "metadata": {},
   "outputs": [],
   "source": [
    "#carregando ambas as bases que temos disponíveis\n",
    "df_train = pd.read_csv(\"../inputs/train.csv\")\n",
    "df_val = pd.read_csv(\"../inputs/validation.csv\")"
   ]
  },
  {
   "cell_type": "code",
   "execution_count": 3,
   "id": "16537ee6",
   "metadata": {},
   "outputs": [],
   "source": [
    "#concatenando as partições para termos a base completa\n",
    "data = pd.concat([df_train, df_val])"
   ]
  },
  {
   "cell_type": "code",
   "execution_count": 4,
   "id": "484614ce",
   "metadata": {},
   "outputs": [],
   "source": [
    "#o lightgbm irá converter para NaN todas as variáveis categóricas que forem menor que 0\n",
    "#para esses casos, teremos que aplicar um tratamento diferente\n",
    "#vamos escolher um valor qualquer negativo para multiplicar as categorias negativas e criar novas categorias positivas\n",
    "def negative_cat(value):\n",
    "    if value < 0:\n",
    "        value = value*(-15)\n",
    "        \n",
    "    else:\n",
    "        pass\n",
    "    \n",
    "    return value"
   ]
  },
  {
   "cell_type": "code",
   "execution_count": 5,
   "id": "07e9049b",
   "metadata": {},
   "outputs": [],
   "source": [
    "#selecionando as variáveis categóricas para definir no modelo\n",
    "cat_cols = ['SEX',\n",
    " 'EDUCATION',\n",
    " 'MARRIAGE',\n",
    " 'PAY_0',\n",
    " 'PAY_2',\n",
    " 'PAY_3',\n",
    " 'PAY_4',\n",
    " 'PAY_5',\n",
    " 'PAY_6']"
   ]
  },
  {
   "cell_type": "code",
   "execution_count": 6,
   "id": "60d65221",
   "metadata": {},
   "outputs": [],
   "source": [
    "#aplicando a função\n",
    "for c in cat_cols:\n",
    "    data[c] = data[c].apply(negative_cat)"
   ]
  },
  {
   "cell_type": "code",
   "execution_count": 7,
   "id": "4493b781",
   "metadata": {},
   "outputs": [],
   "source": [
    "#criando input e output\n",
    "X, y = data.drop(columns='target', axis=1), data.target.values"
   ]
  },
  {
   "cell_type": "code",
   "execution_count": 8,
   "id": "5a04b347",
   "metadata": {},
   "outputs": [],
   "source": [
    "#o lightgbm só aceita index para identificação das colunas categoricas\n",
    "cat_idx = []\n",
    "for c in cat_cols:\n",
    "    #aqui estamos subtraindo 1 do index porque a coluna \"ID\" será removida, alterando o index das colunas restantes\n",
    "    idx = X.columns.get_loc(c) - 1\n",
    "    cat_idx.append(idx)"
   ]
  },
  {
   "cell_type": "code",
   "execution_count": 9,
   "id": "ab7a509a",
   "metadata": {},
   "outputs": [],
   "source": [
    "#inicializando as classes que serão utilizadas para geração de features\n",
    "#a ideia de utilizar classes é poder encapsular tudo num só pipeline\n",
    "\n",
    "#classe para criar as features de divisão\n",
    "fbf = fg.FeatureByFeature(features_num=[\"PAY_AMT1\", \"PAY_AMT2\", \"PAY_AMT3\", \"PAY_AMT4\", \"PAY_AMT5\", \"PAY_AMT6\"],\n",
    "                         features_denom=[\"BILL_AMT1\", \"BILL_AMT2\", \"BILL_AMT3\", \"BILL_AMT4\", \"BILL_AMT5\", \"BILL_AMT6\"])\n",
    "\n",
    "#classe para criar as features de diferença\n",
    "diff1 = fg.DiffFeatures(features=[\"PAY_AMT1\", \"PAY_AMT2\", \"PAY_AMT3\", \"PAY_AMT4\", \"PAY_AMT5\", \"PAY_AMT6\"])\n",
    "\n",
    "diff2 = fg.DiffFeatures(features=[\"BILL_AMT1\", \"BILL_AMT2\", \"BILL_AMT3\", \"BILL_AMT4\", \"BILL_AMT5\", \"BILL_AMT6\"])\n",
    "\n",
    "#classe para dropar features que não serão necessárias\n",
    "dc = fg.DropCols(features=[\"ID\"])"
   ]
  },
  {
   "cell_type": "code",
   "execution_count": 10,
   "id": "a03f53bd",
   "metadata": {},
   "outputs": [],
   "source": [
    "#criando nosso dicionário de parâmetros para configurar o modelo\n",
    "selected_params = {'reg_lambda': 4,\n",
    " 'reg_alpha': 12,\n",
    " 'num_leaves': 12,\n",
    " 'n_estimators': 500,\n",
    " 'min_child_samples': 60,\n",
    " 'max_depth': 8,\n",
    " 'learning_rate': 0.005,\n",
    " 'colsample_bytree': None}"
   ]
  },
  {
   "cell_type": "code",
   "execution_count": 11,
   "id": "43f15214",
   "metadata": {},
   "outputs": [],
   "source": [
    "#inicializando um novo lightgbm, agora com os parâmetros escolhidos\n",
    "estimator = LGBMClassifier(**selected_params,\n",
    "                           categorical_features=cat_idx,\n",
    "                           class_weight=\"balanced\",\n",
    "                           random_state=42)"
   ]
  },
  {
   "cell_type": "code",
   "execution_count": 12,
   "id": "2f5d68db",
   "metadata": {},
   "outputs": [],
   "source": [
    "#configurando o pipeline com o novo modelo inicializado\n",
    "pipe = Pipeline(steps=[(\"DropCols\", dc),\n",
    "                       (\"FeatureByFeature\", fbf),\n",
    "                      (\"diff_features1\", diff1),\n",
    "                      (\"diff_features2\", diff2),\n",
    "                      (\"Estimator\", estimator)])"
   ]
  },
  {
   "cell_type": "code",
   "execution_count": 13,
   "id": "ac8727bc",
   "metadata": {},
   "outputs": [
    {
     "data": {
      "text/plain": [
       "Pipeline(steps=[('DropCols', DropCols(features=['ID'])),\n",
       "                ('FeatureByFeature',\n",
       "                 FeatureByFeature(features_denom=['BILL_AMT1', 'BILL_AMT2',\n",
       "                                                  'BILL_AMT3', 'BILL_AMT4',\n",
       "                                                  'BILL_AMT5', 'BILL_AMT6'],\n",
       "                                  features_num=['PAY_AMT1', 'PAY_AMT2',\n",
       "                                                'PAY_AMT3', 'PAY_AMT4',\n",
       "                                                'PAY_AMT5', 'PAY_AMT6'])),\n",
       "                ('diff_features1',\n",
       "                 DiffFeatures(features=['PAY_AMT1', 'PAY_AMT2', 'PAY_AMT3',\n",
       "                                        'PAY_AMT4', '...\n",
       "                ('diff_features2',\n",
       "                 DiffFeatures(features=['BILL_AMT1', 'BILL_AMT2', 'BILL_AMT3',\n",
       "                                        'BILL_AMT4', 'BILL_AMT5',\n",
       "                                        'BILL_AMT6'])),\n",
       "                ('Estimator',\n",
       "                 LGBMClassifier(categorical_features=[1, 2, 3, 5, 6, 7, 8, 9,\n",
       "                                                      10],\n",
       "                                class_weight='balanced', colsample_bytree=None,\n",
       "                                learning_rate=0.005, max_depth=8,\n",
       "                                min_child_samples=60, n_estimators=500,\n",
       "                                num_leaves=12, random_state=42, reg_alpha=12,\n",
       "                                reg_lambda=4))])"
      ]
     },
     "execution_count": 13,
     "metadata": {},
     "output_type": "execute_result"
    }
   ],
   "source": [
    "#fit\n",
    "pipe.fit(X, y)"
   ]
  },
  {
   "cell_type": "code",
   "execution_count": 14,
   "id": "fbabc58b",
   "metadata": {},
   "outputs": [
    {
     "data": {
      "text/plain": [
       "['../app/model.pkl']"
      ]
     },
     "execution_count": 14,
     "metadata": {},
     "output_type": "execute_result"
    }
   ],
   "source": [
    "#salvando nosso pipeline inteiro em .pkl\n",
    "dump(pipe, \"../app/model.pkl\")"
   ]
  },
  {
   "cell_type": "markdown",
   "id": "e655afc7",
   "metadata": {},
   "source": [
    "# Observações finais \n",
    "\n",
    "Note que todas as nossas transformações, mesmo as customizadas para feature engineering, foram encapsuladas no pipeline do modelo e estarão salvas no nosso arquivo .pkl, o que tornará o deploy do nosso modelo muito mais \"clean\" em termos de código."
   ]
  },
  {
   "cell_type": "code",
   "execution_count": null,
   "id": "f8994645",
   "metadata": {},
   "outputs": [],
   "source": []
  }
 ],
 "metadata": {
  "kernelspec": {
   "display_name": "Python 3 (ipykernel)",
   "language": "python",
   "name": "python3"
  },
  "language_info": {
   "codemirror_mode": {
    "name": "ipython",
    "version": 3
   },
   "file_extension": ".py",
   "mimetype": "text/x-python",
   "name": "python",
   "nbconvert_exporter": "python",
   "pygments_lexer": "ipython3",
   "version": "3.9.13"
  }
 },
 "nbformat": 4,
 "nbformat_minor": 5
}
