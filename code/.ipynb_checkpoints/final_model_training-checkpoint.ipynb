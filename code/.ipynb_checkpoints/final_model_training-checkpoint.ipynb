{
 "cells": [
  {
   "cell_type": "markdown",
   "id": "2cf7fdd2",
   "metadata": {},
   "source": [
    "# Treinamento do modelo final\n",
    "\n",
    "Até aqui, todos os nossos desenvolvimentos se basearam em treinar o modelo em uma base de treino, tendo uma base de validação para avaliar o modelo ao final de tudo. Nesse momento, onde já temos todas as definições em relação à modelagem, vamos treinar o modelo com a configuração escolhida em toda a base disponível"
   ]
  },
  {
   "cell_type": "code",
   "execution_count": 1,
   "id": "75266185",
   "metadata": {},
   "outputs": [],
   "source": [
    "#carregando as bibliotecas necessárias\n",
    "import pandas as pd\n",
    "import numpy as np\n",
    "\n",
    "import matplotlib.pyplot as plt\n",
    "import seaborn as sns\n",
    "\n",
    "from sklearn.metrics import f1_score, recall_score, precision_score\n",
    "from sklearn.pipeline import Pipeline\n",
    "from sklearn.model_selection import RandomizedSearchCV, StratifiedKFold, cross_val_score\n",
    "\n",
    "import FeatureGenerator as fg\n",
    "\n",
    "from joblib import dump, load\n",
    "\n",
    "from lightgbm import LGBMClassifier"
   ]
  },
  {
   "cell_type": "code",
   "execution_count": 2,
   "id": "5b38d316",
   "metadata": {},
   "outputs": [],
   "source": [
    "#carregando ambas as bases que temos disponíveis\n",
    "df_train = pd.read_csv(\"../inputs/train.csv\")\n",
    "df_val = pd.read_csv(\"../inputs/validation.csv\")"
   ]
  },
  {
   "cell_type": "code",
   "execution_count": 3,
   "id": "16537ee6",
   "metadata": {},
   "outputs": [],
   "source": [
    "#concatenando as partições para termos a base completa\n",
    "data = pd.concat([df_train, df_val])"
   ]
  },
  {
   "cell_type": "code",
   "execution_count": 4,
   "id": "4493b781",
   "metadata": {},
   "outputs": [],
   "source": [
    "#criando input e output\n",
    "X, y = data.drop(columns='target', axis=1), data.target.values"
   ]
  },
  {
   "cell_type": "code",
   "execution_count": 5,
   "id": "859b470e",
   "metadata": {},
   "outputs": [],
   "source": [
    "#features selecionadas do processo de feature selection\n",
    "selected_features = ['BILL_AMT2_minus_BILL_AMT1',\n",
    " 'PAY_AMT5/BILL_AMT5',\n",
    " 'PAY_AMT6/BILL_AMT6',\n",
    " 'BILL_AMT3_minus_BILL_AMT2',\n",
    " 'PAY_AMT4/BILL_AMT4',\n",
    " 'PAY_AMT1/BILL_AMT1',\n",
    " 'PAY_AMT4_minus_PAY_AMT3',\n",
    " 'PAY_AMT2/BILL_AMT2',\n",
    " 'BILL_AMT5_minus_BILL_AMT4',\n",
    " 'BILL_AMT4_minus_BILL_AMT3',\n",
    " 'AGE',\n",
    " 'BILL_AMT6_minus_BILL_AMT5',\n",
    " 'PAY_AMT3/BILL_AMT3',\n",
    " 'PAY_AMT2_minus_PAY_AMT1',\n",
    " 'PAY_AMT6_minus_PAY_AMT5',\n",
    " 'PAY_AMT5_minus_PAY_AMT4',\n",
    " 'LIMIT_BAL/EDUCATION_max',\n",
    " 'PAY_AMT2',\n",
    " 'PAY_AMT3_minus_PAY_AMT2',\n",
    " 'LIMIT_BAL/EDUCATION_mean',\n",
    " 'PAY_AMT1',\n",
    " 'BILL_AMT5/EDUCATION_min',\n",
    " 'LIMIT_BAL',\n",
    " 'PAY_AMT6',\n",
    " 'PAY_0',\n",
    " 'PAY_AMT3',\n",
    " 'PAY_AMT4',\n",
    " 'BILL_AMT1',\n",
    " 'PAY_AMT5',\n",
    " 'BILL_AMT1/EDUCATION_max',\n",
    " 'BILL_AMT4/EDUCATION_min',\n",
    " 'BILL_AMT2/EDUCATION_min',\n",
    " 'BILL_AMT3/EDUCATION_min',\n",
    " 'BILL_AMT6/EDUCATION_min']"
   ]
  },
  {
   "cell_type": "code",
   "execution_count": 6,
   "id": "ab7a509a",
   "metadata": {},
   "outputs": [],
   "source": [
    "#inicializando as classes que serão utilizadas para geração de features\n",
    "#a ideia de utilizar classes é poder encapsular tudo num só pipeline\n",
    "\n",
    "#classe para criar as features de divisão\n",
    "fbf = fg.FeatureByFeature(features_num=[\"PAY_AMT1\", \"PAY_AMT2\", \"PAY_AMT3\", \"PAY_AMT4\", \"PAY_AMT5\", \"PAY_AMT6\"],\n",
    "                         features_denom=[\"BILL_AMT1\", \"BILL_AMT2\", \"BILL_AMT3\", \"BILL_AMT4\", \"BILL_AMT5\", \"BILL_AMT6\"])\n",
    "\n",
    "#classe para criar as features de diferença\n",
    "diff1 = fg.DiffFeatures(features=[\"PAY_AMT1\", \"PAY_AMT2\", \"PAY_AMT3\", \"PAY_AMT4\", \"PAY_AMT5\", \"PAY_AMT6\"])\n",
    "\n",
    "diff2 = fg.DiffFeatures(features=[\"BILL_AMT1\", \"BILL_AMT2\", \"BILL_AMT3\", \"BILL_AMT4\", \"BILL_AMT5\", \"BILL_AMT6\"])\n",
    "\n",
    "#classe para criar as features de agrupamento\n",
    "agpf = fg.GroupFeatures(group_columns=[\"EDUCATION\"], features=[\"LIMIT_BAL\", \"BILL_AMT1\", \n",
    "                                                               \"BILL_AMT2\", \"BILL_AMT3\", \"BILL_AMT4\", \n",
    "                                                               \"BILL_AMT5\", \"BILL_AMT6\"])\n",
    "#classe para filtrar as features que serão usadas como input\n",
    "final_features = fg.FinalFeatures(features=selected_features)"
   ]
  },
  {
   "cell_type": "code",
   "execution_count": 7,
   "id": "a03f53bd",
   "metadata": {},
   "outputs": [],
   "source": [
    "#criando nosso dicionário de parâmetros para configurar o modelo\n",
    "selected_params = {'reg_lambda': 10,\n",
    " 'reg_alpha': 2,\n",
    " 'num_leaves': 12,\n",
    " 'n_estimators': 800,\n",
    " 'min_child_samples': 40,\n",
    " 'max_depth': 2,\n",
    " 'learning_rate': 0.02,\n",
    " 'colsample_bytree': None}"
   ]
  },
  {
   "cell_type": "code",
   "execution_count": 9,
   "id": "43f15214",
   "metadata": {},
   "outputs": [],
   "source": [
    "#inicializando um novo lightgbm, agora com os parâmetros escolhidos\n",
    "estimator = LGBMClassifier(**selected_params,\n",
    "                                class_weight=\"balanced\",\n",
    "                                random_state=42)"
   ]
  },
  {
   "cell_type": "code",
   "execution_count": 11,
   "id": "2f5d68db",
   "metadata": {},
   "outputs": [],
   "source": [
    "#configurando o pipeline com o novo modelo inicializado\n",
    "pipe = Pipeline(steps=[(\"FeatureByFeature\", fbf),\n",
    "                      (\"diff_features1\", diff1),\n",
    "                      (\"diff_features2\", diff2),\n",
    "                      (\"aggrouped_features\", agpf),\n",
    "                      (\"FinalFeatures\", final_features),\n",
    "                      (\"Estimator\", estimator)])"
   ]
  },
  {
   "cell_type": "code",
   "execution_count": 12,
   "id": "ac8727bc",
   "metadata": {},
   "outputs": [
    {
     "data": {
      "text/plain": [
       "Pipeline(steps=[('FeatureByFeature',\n",
       "                 FeatureByFeature(features_denom=['BILL_AMT1', 'BILL_AMT2',\n",
       "                                                  'BILL_AMT3', 'BILL_AMT4',\n",
       "                                                  'BILL_AMT5', 'BILL_AMT6'],\n",
       "                                  features_num=['PAY_AMT1', 'PAY_AMT2',\n",
       "                                                'PAY_AMT3', 'PAY_AMT4',\n",
       "                                                'PAY_AMT5', 'PAY_AMT6'])),\n",
       "                ('diff_features1',\n",
       "                 DiffFeatures(features=['PAY_AMT1', 'PAY_AMT2', 'PAY_AMT3',\n",
       "                                        'PAY_AMT4', 'PAY_AMT5', 'PAY_AMT6'])),\n",
       "                ('diff_features...\n",
       "                                         'LIMIT_BAL/EDUCATION_mean', 'PAY_AMT1',\n",
       "                                         'BILL_AMT5/EDUCATION_min', 'LIMIT_BAL',\n",
       "                                         'PAY_AMT6', 'PAY_0', 'PAY_AMT3',\n",
       "                                         'PAY_AMT4', 'BILL_AMT1', 'PAY_AMT5',\n",
       "                                         'BILL_AMT1/EDUCATION_max', ...])),\n",
       "                ('Estimator',\n",
       "                 LGBMClassifier(class_weight='balanced', colsample_bytree=None,\n",
       "                                learning_rate=0.02, max_depth=2,\n",
       "                                min_child_samples=40, n_estimators=800,\n",
       "                                num_leaves=12, random_state=42, reg_alpha=2,\n",
       "                                reg_lambda=10))])"
      ]
     },
     "execution_count": 12,
     "metadata": {},
     "output_type": "execute_result"
    }
   ],
   "source": [
    "#fit\n",
    "pipe.fit(X, y)"
   ]
  },
  {
   "cell_type": "code",
   "execution_count": 13,
   "id": "fbabc58b",
   "metadata": {},
   "outputs": [
    {
     "data": {
      "text/plain": [
       "['../app/model.pkl']"
      ]
     },
     "execution_count": 13,
     "metadata": {},
     "output_type": "execute_result"
    }
   ],
   "source": [
    "#salvando nosso pipeline inteiro em .pkl\n",
    "dump(pipe, \"../app/model.pkl\")"
   ]
  }
 ],
 "metadata": {
  "kernelspec": {
   "display_name": "Python 3 (ipykernel)",
   "language": "python",
   "name": "python3"
  },
  "language_info": {
   "codemirror_mode": {
    "name": "ipython",
    "version": 3
   },
   "file_extension": ".py",
   "mimetype": "text/x-python",
   "name": "python",
   "nbconvert_exporter": "python",
   "pygments_lexer": "ipython3",
   "version": "3.9.13"
  }
 },
 "nbformat": 4,
 "nbformat_minor": 5
}
