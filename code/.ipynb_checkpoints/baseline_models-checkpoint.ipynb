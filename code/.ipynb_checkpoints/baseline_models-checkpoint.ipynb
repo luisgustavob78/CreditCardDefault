{
 "cells": [
  {
   "cell_type": "markdown",
   "id": "9d7e3619",
   "metadata": {},
   "source": [
    "# Baseline Models\n",
    "\n",
    "Vamos criar um modelo lightgbm default para avaliar qual a performance mínima que podemos atingir com um modelo básico. As principais razões para escolher o lightgbm são:\n",
    "\n",
    "1. É capaz de tratar variáveis categóricas e missing values de forma nativa;\n",
    "2. Treinamento rápido;\n",
    "3. Permite uma boa margem para manipular parâmetros de regularização e assim evitar overfitting."
   ]
  },
  {
   "cell_type": "code",
   "execution_count": 10,
   "id": "1a48bfca",
   "metadata": {},
   "outputs": [],
   "source": [
    "#importando as bibliotecas necessárias\n",
    "import pandas as pd\n",
    "import numpy as np\n",
    "\n",
    "import matplotlib.pyplot as plt\n",
    "import seaborn as sns\n",
    "\n",
    "from sklearn.pipeline import Pipeline\n",
    "from sklearn.metrics import f1_score, precision_score, recall_score\n",
    "\n",
    "from lightgbm import LGBMClassifier"
   ]
  },
  {
   "cell_type": "code",
   "execution_count": 2,
   "id": "13bb9420",
   "metadata": {},
   "outputs": [
    {
     "data": {
      "text/html": [
       "<div>\n",
       "<style scoped>\n",
       "    .dataframe tbody tr th:only-of-type {\n",
       "        vertical-align: middle;\n",
       "    }\n",
       "\n",
       "    .dataframe tbody tr th {\n",
       "        vertical-align: top;\n",
       "    }\n",
       "\n",
       "    .dataframe thead th {\n",
       "        text-align: right;\n",
       "    }\n",
       "</style>\n",
       "<table border=\"1\" class=\"dataframe\">\n",
       "  <thead>\n",
       "    <tr style=\"text-align: right;\">\n",
       "      <th></th>\n",
       "      <th>ID</th>\n",
       "      <th>LIMIT_BAL</th>\n",
       "      <th>SEX</th>\n",
       "      <th>EDUCATION</th>\n",
       "      <th>MARRIAGE</th>\n",
       "      <th>AGE</th>\n",
       "      <th>PAY_0</th>\n",
       "      <th>PAY_2</th>\n",
       "      <th>PAY_3</th>\n",
       "      <th>PAY_4</th>\n",
       "      <th>...</th>\n",
       "      <th>BILL_AMT4</th>\n",
       "      <th>BILL_AMT5</th>\n",
       "      <th>BILL_AMT6</th>\n",
       "      <th>PAY_AMT1</th>\n",
       "      <th>PAY_AMT2</th>\n",
       "      <th>PAY_AMT3</th>\n",
       "      <th>PAY_AMT4</th>\n",
       "      <th>PAY_AMT5</th>\n",
       "      <th>PAY_AMT6</th>\n",
       "      <th>target</th>\n",
       "    </tr>\n",
       "  </thead>\n",
       "  <tbody>\n",
       "    <tr>\n",
       "      <th>0</th>\n",
       "      <td>28104</td>\n",
       "      <td>50000.0</td>\n",
       "      <td>2</td>\n",
       "      <td>1</td>\n",
       "      <td>1</td>\n",
       "      <td>31</td>\n",
       "      <td>1</td>\n",
       "      <td>2</td>\n",
       "      <td>2</td>\n",
       "      <td>0</td>\n",
       "      <td>...</td>\n",
       "      <td>50332.0</td>\n",
       "      <td>29690.0</td>\n",
       "      <td>30246.0</td>\n",
       "      <td>2200.0</td>\n",
       "      <td>4.0</td>\n",
       "      <td>2300.0</td>\n",
       "      <td>1100.0</td>\n",
       "      <td>1400.0</td>\n",
       "      <td>1200.0</td>\n",
       "      <td>1</td>\n",
       "    </tr>\n",
       "    <tr>\n",
       "      <th>1</th>\n",
       "      <td>29094</td>\n",
       "      <td>330000.0</td>\n",
       "      <td>2</td>\n",
       "      <td>2</td>\n",
       "      <td>2</td>\n",
       "      <td>59</td>\n",
       "      <td>0</td>\n",
       "      <td>0</td>\n",
       "      <td>0</td>\n",
       "      <td>0</td>\n",
       "      <td>...</td>\n",
       "      <td>80589.0</td>\n",
       "      <td>76180.0</td>\n",
       "      <td>61693.0</td>\n",
       "      <td>20000.0</td>\n",
       "      <td>3500.0</td>\n",
       "      <td>19000.0</td>\n",
       "      <td>15000.0</td>\n",
       "      <td>3000.0</td>\n",
       "      <td>2139.0</td>\n",
       "      <td>0</td>\n",
       "    </tr>\n",
       "    <tr>\n",
       "      <th>2</th>\n",
       "      <td>11280</td>\n",
       "      <td>220000.0</td>\n",
       "      <td>2</td>\n",
       "      <td>1</td>\n",
       "      <td>2</td>\n",
       "      <td>41</td>\n",
       "      <td>-1</td>\n",
       "      <td>-1</td>\n",
       "      <td>-2</td>\n",
       "      <td>-2</td>\n",
       "      <td>...</td>\n",
       "      <td>0.0</td>\n",
       "      <td>0.0</td>\n",
       "      <td>0.0</td>\n",
       "      <td>0.0</td>\n",
       "      <td>0.0</td>\n",
       "      <td>0.0</td>\n",
       "      <td>0.0</td>\n",
       "      <td>0.0</td>\n",
       "      <td>0.0</td>\n",
       "      <td>0</td>\n",
       "    </tr>\n",
       "    <tr>\n",
       "      <th>3</th>\n",
       "      <td>28435</td>\n",
       "      <td>50000.0</td>\n",
       "      <td>2</td>\n",
       "      <td>2</td>\n",
       "      <td>1</td>\n",
       "      <td>45</td>\n",
       "      <td>0</td>\n",
       "      <td>0</td>\n",
       "      <td>0</td>\n",
       "      <td>0</td>\n",
       "      <td>...</td>\n",
       "      <td>8469.0</td>\n",
       "      <td>8411.0</td>\n",
       "      <td>8361.0</td>\n",
       "      <td>2124.0</td>\n",
       "      <td>2037.0</td>\n",
       "      <td>1130.0</td>\n",
       "      <td>295.0</td>\n",
       "      <td>302.0</td>\n",
       "      <td>296.0</td>\n",
       "      <td>0</td>\n",
       "    </tr>\n",
       "    <tr>\n",
       "      <th>4</th>\n",
       "      <td>10873</td>\n",
       "      <td>480000.0</td>\n",
       "      <td>2</td>\n",
       "      <td>3</td>\n",
       "      <td>1</td>\n",
       "      <td>42</td>\n",
       "      <td>-2</td>\n",
       "      <td>-2</td>\n",
       "      <td>-2</td>\n",
       "      <td>-2</td>\n",
       "      <td>...</td>\n",
       "      <td>0.0</td>\n",
       "      <td>790.0</td>\n",
       "      <td>0.0</td>\n",
       "      <td>0.0</td>\n",
       "      <td>0.0</td>\n",
       "      <td>0.0</td>\n",
       "      <td>790.0</td>\n",
       "      <td>0.0</td>\n",
       "      <td>0.0</td>\n",
       "      <td>0</td>\n",
       "    </tr>\n",
       "  </tbody>\n",
       "</table>\n",
       "<p>5 rows × 25 columns</p>\n",
       "</div>"
      ],
      "text/plain": [
       "      ID  LIMIT_BAL  SEX  EDUCATION  MARRIAGE  AGE  PAY_0  PAY_2  PAY_3  \\\n",
       "0  28104    50000.0    2          1         1   31      1      2      2   \n",
       "1  29094   330000.0    2          2         2   59      0      0      0   \n",
       "2  11280   220000.0    2          1         2   41     -1     -1     -2   \n",
       "3  28435    50000.0    2          2         1   45      0      0      0   \n",
       "4  10873   480000.0    2          3         1   42     -2     -2     -2   \n",
       "\n",
       "   PAY_4  ...  BILL_AMT4  BILL_AMT5  BILL_AMT6  PAY_AMT1  PAY_AMT2  PAY_AMT3  \\\n",
       "0      0  ...    50332.0    29690.0    30246.0    2200.0       4.0    2300.0   \n",
       "1      0  ...    80589.0    76180.0    61693.0   20000.0    3500.0   19000.0   \n",
       "2     -2  ...        0.0        0.0        0.0       0.0       0.0       0.0   \n",
       "3      0  ...     8469.0     8411.0     8361.0    2124.0    2037.0    1130.0   \n",
       "4     -2  ...        0.0      790.0        0.0       0.0       0.0       0.0   \n",
       "\n",
       "   PAY_AMT4  PAY_AMT5  PAY_AMT6  target  \n",
       "0    1100.0    1400.0    1200.0       1  \n",
       "1   15000.0    3000.0    2139.0       0  \n",
       "2       0.0       0.0       0.0       0  \n",
       "3     295.0     302.0     296.0       0  \n",
       "4     790.0       0.0       0.0       0  \n",
       "\n",
       "[5 rows x 25 columns]"
      ]
     },
     "execution_count": 2,
     "metadata": {},
     "output_type": "execute_result"
    }
   ],
   "source": [
    "#carregando os dados para treinamento\n",
    "df_train = pd.read_csv(\"../inputs/train.csv\")\n",
    "df_train.head()"
   ]
  },
  {
   "cell_type": "code",
   "execution_count": 3,
   "id": "52745309",
   "metadata": {},
   "outputs": [],
   "source": [
    "#selecionando as variáveis categóricas para definir no modelo\n",
    "cat_cols = ['SEX',\n",
    " 'EDUCATION',\n",
    " 'MARRIAGE',\n",
    " 'PAY_0',\n",
    " 'PAY_2',\n",
    " 'PAY_3',\n",
    " 'PAY_4',\n",
    " 'PAY_5',\n",
    " 'PAY_6']"
   ]
  },
  {
   "cell_type": "code",
   "execution_count": 4,
   "id": "579c4269",
   "metadata": {},
   "outputs": [],
   "source": [
    "#não usaremos a coluna ID para o treinamento, pois não há teor preditivo nessa informação\n",
    "df_train = df_train.drop(columns=\"ID\", axis=1)"
   ]
  },
  {
   "cell_type": "code",
   "execution_count": 5,
   "id": "8ba3bb81",
   "metadata": {},
   "outputs": [],
   "source": [
    "#separando variáveis de entrada e target\n",
    "X_train, y_train = df_train.drop(columns=\"target\", axis=1), df_train.target.values"
   ]
  },
  {
   "cell_type": "code",
   "execution_count": 6,
   "id": "e8298426",
   "metadata": {},
   "outputs": [],
   "source": [
    "#o lightgbm só aceita index para identificação das colunas categoricas\n",
    "cat_idx = []\n",
    "for c in cat_cols:\n",
    "    idx = X_train.columns.get_loc(c)\n",
    "    cat_idx.append(idx)"
   ]
  },
  {
   "cell_type": "code",
   "execution_count": 7,
   "id": "4d1f4b48",
   "metadata": {},
   "outputs": [],
   "source": [
    "#definindo o primeiro modelo baseline\n",
    "model = LGBMClassifier(categorical_features=cat_idx,\n",
    "                       random_state=42)"
   ]
  },
  {
   "cell_type": "code",
   "execution_count": 8,
   "id": "21be6077",
   "metadata": {},
   "outputs": [],
   "source": [
    "#para acelerar o treinamento, podemos evitar passar pandas dataframes aos modelos\n",
    "X_train = X_train.to_numpy()"
   ]
  },
  {
   "cell_type": "code",
   "execution_count": 9,
   "id": "6d0abf8b",
   "metadata": {},
   "outputs": [
    {
     "data": {
      "text/plain": [
       "LGBMClassifier(categorical_features=[1, 2, 3, 5, 6, 7, 8, 9, 10],\n",
       "               random_state=42)"
      ]
     },
     "execution_count": 9,
     "metadata": {},
     "output_type": "execute_result"
    }
   ],
   "source": [
    "#treinando o modelo\n",
    "model.fit(X_train, y_train)"
   ]
  },
  {
   "cell_type": "code",
   "execution_count": 11,
   "id": "343215d5",
   "metadata": {},
   "outputs": [],
   "source": [
    "#carregando o dataset de validação para avaliar a performance do modelo\n",
    "df_val = pd.read_csv(\"../inputs/validation.csv\")\n",
    "df_val = df_val.drop(columns=\"ID\", axis=1)"
   ]
  },
  {
   "cell_type": "code",
   "execution_count": 12,
   "id": "4d3f8879",
   "metadata": {},
   "outputs": [],
   "source": [
    "#separando features de entrada e saída\n",
    "X_val, y_val = df_val.drop(columns=\"target\", axis=1), df_val.target.values"
   ]
  },
  {
   "cell_type": "code",
   "execution_count": 13,
   "id": "2b042251",
   "metadata": {},
   "outputs": [],
   "source": [
    "#gerando as predições\n",
    "y_pred = model.predict(X_val)"
   ]
  },
  {
   "cell_type": "code",
   "execution_count": 14,
   "id": "9f7b61ae",
   "metadata": {},
   "outputs": [
    {
     "name": "stdout",
     "output_type": "stream",
     "text": [
      "f1 lgbm default na base de validação: 0.46643417611159543\n",
      "recall lgbm default na base de validação: 0.3583389149363697\n",
      "precisao lgbm default na base de validação: 0.6679151061173533\n"
     ]
    }
   ],
   "source": [
    "#da análise dos dados, vimos que existe um desbalanceamento na base de dados, por isso, vamos usar recall, precisão e f1\n",
    "#como métricas de avaliação de modelos\n",
    "f1 = f1_score(y_val, y_pred)\n",
    "recall = recall_score(y_val, y_pred)\n",
    "precision = precision_score(y_val, y_pred)\n",
    "\n",
    "print(f\"f1 lgbm default na base de validação: {f1}\")\n",
    "print(f\"recall lgbm default na base de validação: {recall}\")\n",
    "print(f\"precisao lgbm default na base de validação: {precision}\")"
   ]
  },
  {
   "cell_type": "markdown",
   "id": "b8563e81",
   "metadata": {},
   "source": [
    "# Colocando peso nas classes\n",
    "\n",
    "Alguns algoritmos, como é o caso do lightgbm, permitem que as classes no target recebam pesos diferentes durante o treinamento de modo a compensar o desbalancemanto natural da distribuição dessas classes no dataset. Vamos avaliar o impacto desse parametro aqui."
   ]
  },
  {
   "cell_type": "code",
   "execution_count": 15,
   "id": "8d2e5daa",
   "metadata": {},
   "outputs": [],
   "source": [
    "#inicializando o modelo\n",
    "model_balanc = LGBMClassifier(categorical_features=cat_idx,\n",
    "                              class_weight=\"balanced\",\n",
    "                              random_state=42)"
   ]
  },
  {
   "cell_type": "code",
   "execution_count": 16,
   "id": "c4e645e7",
   "metadata": {},
   "outputs": [
    {
     "data": {
      "text/plain": [
       "LGBMClassifier(categorical_features=[1, 2, 3, 5, 6, 7, 8, 9, 10],\n",
       "               class_weight='balanced', random_state=42)"
      ]
     },
     "execution_count": 16,
     "metadata": {},
     "output_type": "execute_result"
    }
   ],
   "source": [
    "#treinando o novo modelo\n",
    "model_balanc.fit(X_train, y_train)"
   ]
  },
  {
   "cell_type": "code",
   "execution_count": 17,
   "id": "c48c720c",
   "metadata": {},
   "outputs": [],
   "source": [
    "#gerando as predições com o novo modelo\n",
    "y_pred = model_balanc.predict(X_val)"
   ]
  },
  {
   "cell_type": "code",
   "execution_count": 18,
   "id": "2817854f",
   "metadata": {},
   "outputs": [
    {
     "name": "stdout",
     "output_type": "stream",
     "text": [
      "f1 lgbm balanceado na base de validação: 0.529685681024447\n",
      "recall lgbm balanceado na base de validação: 0.6095110515740121\n",
      "precisao lgbm balanceado na base de validação: 0.4683479155944416\n"
     ]
    }
   ],
   "source": [
    "#avaliando o novo modelo\n",
    "f1 = f1_score(y_val, y_pred)\n",
    "recall = recall_score(y_val, y_pred)\n",
    "precision = precision_score(y_val, y_pred)\n",
    "\n",
    "print(f\"f1 lgbm balanceado na base de validação: {f1}\")\n",
    "print(f\"recall lgbm balanceado na base de validação: {recall}\")\n",
    "print(f\"precisao lgbm balanceado na base de validação: {precision}\")"
   ]
  },
  {
   "cell_type": "markdown",
   "id": "dbbebb19",
   "metadata": {},
   "source": [
    "Podemos notar que houve um ganho nas métricas de f1 e recall após o uso do class_weight=\"balanced\", porém uma perda na precisao. Essa decisão fará parte de um processo futuro de tuning dos hiperparametros do modelo."
   ]
  },
  {
   "cell_type": "code",
   "execution_count": null,
   "id": "402916df",
   "metadata": {},
   "outputs": [],
   "source": []
  }
 ],
 "metadata": {
  "kernelspec": {
   "display_name": "Python 3 (ipykernel)",
   "language": "python",
   "name": "python3"
  },
  "language_info": {
   "codemirror_mode": {
    "name": "ipython",
    "version": 3
   },
   "file_extension": ".py",
   "mimetype": "text/x-python",
   "name": "python",
   "nbconvert_exporter": "python",
   "pygments_lexer": "ipython3",
   "version": "3.9.13"
  }
 },
 "nbformat": 4,
 "nbformat_minor": 5
}
