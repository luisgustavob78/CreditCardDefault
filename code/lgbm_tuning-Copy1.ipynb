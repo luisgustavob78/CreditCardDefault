{
 "cells": [
  {
   "cell_type": "markdown",
   "id": "86b8f595",
   "metadata": {},
   "source": [
    "# Model tuning\n",
    "\n",
    "Após selecionarmos as melhores features para nosso modelo, o que faremos nesse notebook será o tuning de hiperparametros do lightgbm. A ideia é encontrar o melhor conjunto de parametros para trazer algum ganho incremental de performance na nossa solução e, principalmente, encontrar parâmetros que diminuam o risco de overfitting do modelo.\n",
    "\n",
    "Essa redução no risco de overfitting de um modelo de árvore se dá devido a alguns fatores, como:\n",
    "* Controle no processo de crescimento das árvores;\n",
    "* Controle na quantidade de nós de decisão das árvores;\n",
    "* Restrição na quantidade de samples e features que, aleatoriamente, o algoritmo irá usar para treinar as árvores em cada iteração;\n",
    "* Regularização da função objetivo através dos parametros reg_alpha e reg_lambda, por exemplo.\n",
    "\n",
    "Para reduzir o tempo de execução, iremos definir um vasto espaço de busca e utilizar o RandomizedSearchCV do scikit-learn que, aleatoriamente, irá testar algumas combinações. Em alguns casos, quando se tem uma melhor ideia de como construir o espaço de busca, também pode ser utilizado o GridSearchCV, que testa todas as combinações possíveis dentro de um grid. Outra alternativa também é usar algoritmos de otimização como o hyperopt e optuna para decidir os melhores parâmetros"
   ]
  },
  {
   "cell_type": "code",
   "execution_count": 1,
   "id": "416519fd",
   "metadata": {},
   "outputs": [],
   "source": [
    "#importando as bibliotecas que serão utilizadas no processo\n",
    "import pandas as pd\n",
    "import numpy as np\n",
    "\n",
    "import matplotlib.pyplot as plt\n",
    "import seaborn as sns\n",
    "\n",
    "from sklearn.metrics import f1_score, recall_score, precision_score\n",
    "from sklearn.pipeline import Pipeline\n",
    "from sklearn.model_selection import RandomizedSearchCV, StratifiedKFold, cross_val_score\n",
    "\n",
    "import FeatureGenerator as fg\n",
    "\n",
    "from lightgbm import LGBMClassifier"
   ]
  },
  {
   "cell_type": "code",
   "execution_count": 2,
   "id": "9f2ae495",
   "metadata": {},
   "outputs": [
    {
     "data": {
      "text/html": [
       "<div>\n",
       "<style scoped>\n",
       "    .dataframe tbody tr th:only-of-type {\n",
       "        vertical-align: middle;\n",
       "    }\n",
       "\n",
       "    .dataframe tbody tr th {\n",
       "        vertical-align: top;\n",
       "    }\n",
       "\n",
       "    .dataframe thead th {\n",
       "        text-align: right;\n",
       "    }\n",
       "</style>\n",
       "<table border=\"1\" class=\"dataframe\">\n",
       "  <thead>\n",
       "    <tr style=\"text-align: right;\">\n",
       "      <th></th>\n",
       "      <th>ID</th>\n",
       "      <th>LIMIT_BAL</th>\n",
       "      <th>SEX</th>\n",
       "      <th>EDUCATION</th>\n",
       "      <th>MARRIAGE</th>\n",
       "      <th>AGE</th>\n",
       "      <th>PAY_0</th>\n",
       "      <th>PAY_2</th>\n",
       "      <th>PAY_3</th>\n",
       "      <th>PAY_4</th>\n",
       "      <th>...</th>\n",
       "      <th>BILL_AMT4</th>\n",
       "      <th>BILL_AMT5</th>\n",
       "      <th>BILL_AMT6</th>\n",
       "      <th>PAY_AMT1</th>\n",
       "      <th>PAY_AMT2</th>\n",
       "      <th>PAY_AMT3</th>\n",
       "      <th>PAY_AMT4</th>\n",
       "      <th>PAY_AMT5</th>\n",
       "      <th>PAY_AMT6</th>\n",
       "      <th>target</th>\n",
       "    </tr>\n",
       "  </thead>\n",
       "  <tbody>\n",
       "    <tr>\n",
       "      <th>0</th>\n",
       "      <td>28104</td>\n",
       "      <td>50000.0</td>\n",
       "      <td>2</td>\n",
       "      <td>1</td>\n",
       "      <td>1</td>\n",
       "      <td>31</td>\n",
       "      <td>1</td>\n",
       "      <td>2</td>\n",
       "      <td>2</td>\n",
       "      <td>0</td>\n",
       "      <td>...</td>\n",
       "      <td>50332.0</td>\n",
       "      <td>29690.0</td>\n",
       "      <td>30246.0</td>\n",
       "      <td>2200.0</td>\n",
       "      <td>4.0</td>\n",
       "      <td>2300.0</td>\n",
       "      <td>1100.0</td>\n",
       "      <td>1400.0</td>\n",
       "      <td>1200.0</td>\n",
       "      <td>1</td>\n",
       "    </tr>\n",
       "    <tr>\n",
       "      <th>1</th>\n",
       "      <td>29094</td>\n",
       "      <td>330000.0</td>\n",
       "      <td>2</td>\n",
       "      <td>2</td>\n",
       "      <td>2</td>\n",
       "      <td>59</td>\n",
       "      <td>0</td>\n",
       "      <td>0</td>\n",
       "      <td>0</td>\n",
       "      <td>0</td>\n",
       "      <td>...</td>\n",
       "      <td>80589.0</td>\n",
       "      <td>76180.0</td>\n",
       "      <td>61693.0</td>\n",
       "      <td>20000.0</td>\n",
       "      <td>3500.0</td>\n",
       "      <td>19000.0</td>\n",
       "      <td>15000.0</td>\n",
       "      <td>3000.0</td>\n",
       "      <td>2139.0</td>\n",
       "      <td>0</td>\n",
       "    </tr>\n",
       "    <tr>\n",
       "      <th>2</th>\n",
       "      <td>11280</td>\n",
       "      <td>220000.0</td>\n",
       "      <td>2</td>\n",
       "      <td>1</td>\n",
       "      <td>2</td>\n",
       "      <td>41</td>\n",
       "      <td>-1</td>\n",
       "      <td>-1</td>\n",
       "      <td>-2</td>\n",
       "      <td>-2</td>\n",
       "      <td>...</td>\n",
       "      <td>0.0</td>\n",
       "      <td>0.0</td>\n",
       "      <td>0.0</td>\n",
       "      <td>0.0</td>\n",
       "      <td>0.0</td>\n",
       "      <td>0.0</td>\n",
       "      <td>0.0</td>\n",
       "      <td>0.0</td>\n",
       "      <td>0.0</td>\n",
       "      <td>0</td>\n",
       "    </tr>\n",
       "    <tr>\n",
       "      <th>3</th>\n",
       "      <td>28435</td>\n",
       "      <td>50000.0</td>\n",
       "      <td>2</td>\n",
       "      <td>2</td>\n",
       "      <td>1</td>\n",
       "      <td>45</td>\n",
       "      <td>0</td>\n",
       "      <td>0</td>\n",
       "      <td>0</td>\n",
       "      <td>0</td>\n",
       "      <td>...</td>\n",
       "      <td>8469.0</td>\n",
       "      <td>8411.0</td>\n",
       "      <td>8361.0</td>\n",
       "      <td>2124.0</td>\n",
       "      <td>2037.0</td>\n",
       "      <td>1130.0</td>\n",
       "      <td>295.0</td>\n",
       "      <td>302.0</td>\n",
       "      <td>296.0</td>\n",
       "      <td>0</td>\n",
       "    </tr>\n",
       "    <tr>\n",
       "      <th>4</th>\n",
       "      <td>10873</td>\n",
       "      <td>480000.0</td>\n",
       "      <td>2</td>\n",
       "      <td>3</td>\n",
       "      <td>1</td>\n",
       "      <td>42</td>\n",
       "      <td>-2</td>\n",
       "      <td>-2</td>\n",
       "      <td>-2</td>\n",
       "      <td>-2</td>\n",
       "      <td>...</td>\n",
       "      <td>0.0</td>\n",
       "      <td>790.0</td>\n",
       "      <td>0.0</td>\n",
       "      <td>0.0</td>\n",
       "      <td>0.0</td>\n",
       "      <td>0.0</td>\n",
       "      <td>790.0</td>\n",
       "      <td>0.0</td>\n",
       "      <td>0.0</td>\n",
       "      <td>0</td>\n",
       "    </tr>\n",
       "  </tbody>\n",
       "</table>\n",
       "<p>5 rows × 25 columns</p>\n",
       "</div>"
      ],
      "text/plain": [
       "      ID  LIMIT_BAL  SEX  EDUCATION  MARRIAGE  AGE  PAY_0  PAY_2  PAY_3  \\\n",
       "0  28104    50000.0    2          1         1   31      1      2      2   \n",
       "1  29094   330000.0    2          2         2   59      0      0      0   \n",
       "2  11280   220000.0    2          1         2   41     -1     -1     -2   \n",
       "3  28435    50000.0    2          2         1   45      0      0      0   \n",
       "4  10873   480000.0    2          3         1   42     -2     -2     -2   \n",
       "\n",
       "   PAY_4  ...  BILL_AMT4  BILL_AMT5  BILL_AMT6  PAY_AMT1  PAY_AMT2  PAY_AMT3  \\\n",
       "0      0  ...    50332.0    29690.0    30246.0    2200.0       4.0    2300.0   \n",
       "1      0  ...    80589.0    76180.0    61693.0   20000.0    3500.0   19000.0   \n",
       "2     -2  ...        0.0        0.0        0.0       0.0       0.0       0.0   \n",
       "3      0  ...     8469.0     8411.0     8361.0    2124.0    2037.0    1130.0   \n",
       "4     -2  ...        0.0      790.0        0.0       0.0       0.0       0.0   \n",
       "\n",
       "   PAY_AMT4  PAY_AMT5  PAY_AMT6  target  \n",
       "0    1100.0    1400.0    1200.0       1  \n",
       "1   15000.0    3000.0    2139.0       0  \n",
       "2       0.0       0.0       0.0       0  \n",
       "3     295.0     302.0     296.0       0  \n",
       "4     790.0       0.0       0.0       0  \n",
       "\n",
       "[5 rows x 25 columns]"
      ]
     },
     "execution_count": 2,
     "metadata": {},
     "output_type": "execute_result"
    }
   ],
   "source": [
    "#carregando os dados de treino\n",
    "data_path = \"../inputs/train.csv\"\n",
    "df_train = pd.read_csv(data_path)\n",
    "df_train.head()"
   ]
  },
  {
   "cell_type": "code",
   "execution_count": 3,
   "id": "72c3f36b",
   "metadata": {},
   "outputs": [],
   "source": [
    "#selecionando as variáveis categóricas para definir no modelo\n",
    "cat_cols = ['SEX',\n",
    " 'EDUCATION',\n",
    " 'MARRIAGE',\n",
    " 'PAY_0',\n",
    " 'PAY_2',\n",
    " 'PAY_3',\n",
    " 'PAY_4',\n",
    " 'PAY_5',\n",
    " 'PAY_6']"
   ]
  },
  {
   "cell_type": "code",
   "execution_count": 12,
   "id": "471f0721",
   "metadata": {},
   "outputs": [],
   "source": [
    "#criando uma lista com as features que foram selecionadas \n",
    "selected_features = ['BILL_AMT2_minus_BILL_AMT1',\n",
    " 'PAY_AMT5/BILL_AMT5',\n",
    " 'PAY_AMT6/BILL_AMT6',\n",
    " 'PAY_AMT1/BILL_AMT1',\n",
    " 'BILL_AMT5_minus_BILL_AMT4',\n",
    " 'PAY_AMT4/BILL_AMT4',\n",
    " 'PAY_AMT3/BILL_AMT3',\n",
    " 'AGE',\n",
    " 'BILL_AMT3_minus_BILL_AMT2',\n",
    " 'BILL_AMT4_minus_BILL_AMT3',\n",
    " 'PAY_AMT6',\n",
    " 'PAY_AMT6_minus_PAY_AMT5',\n",
    " 'PAY_AMT2/BILL_AMT2',\n",
    " 'BILL_AMT6_minus_BILL_AMT5',\n",
    " 'PAY_0',\n",
    " 'LIMIT_BAL/EDUCATION_mean',\n",
    " 'PAY_AMT2',\n",
    " 'LIMIT_BAL',\n",
    " 'PAY_AMT1',\n",
    " 'PAY_AMT2_minus_PAY_AMT1',\n",
    " 'PAY_AMT4_minus_PAY_AMT3',\n",
    " 'PAY_AMT3_minus_PAY_AMT2',\n",
    " 'PAY_AMT3',\n",
    " 'BILL_AMT1/EDUCATION_max',\n",
    " 'PAY_AMT4']"
   ]
  },
  {
   "cell_type": "code",
   "execution_count": 13,
   "id": "cda8670c",
   "metadata": {},
   "outputs": [],
   "source": [
    "#inicializando as classes que serão utilizadas para geração de features\n",
    "#a ideia de utilizar classes é poder encapsular tudo num só pipeline\n",
    "\n",
    "#classe para criar as features de divisão\n",
    "fbf = fg.FeatureByFeature(features_num=[\"PAY_AMT1\", \"PAY_AMT2\", \"PAY_AMT3\", \"PAY_AMT4\", \"PAY_AMT5\", \"PAY_AMT6\"],\n",
    "                         features_denom=[\"BILL_AMT1\", \"BILL_AMT2\", \"BILL_AMT3\", \"BILL_AMT4\", \"BILL_AMT5\", \"BILL_AMT6\"])\n",
    "\n",
    "#classe para criar as features de diferença\n",
    "diff1 = fg.DiffFeatures(features=[\"PAY_AMT1\", \"PAY_AMT2\", \"PAY_AMT3\", \"PAY_AMT4\", \"PAY_AMT5\", \"PAY_AMT6\"])\n",
    "\n",
    "diff2 = fg.DiffFeatures(features=[\"BILL_AMT1\", \"BILL_AMT2\", \"BILL_AMT3\", \"BILL_AMT4\", \"BILL_AMT5\", \"BILL_AMT6\"])\n",
    "\n",
    "#classe para criar as features de agrupamento\n",
    "agpf = fg.GroupFeatures(group_columns=[\"EDUCATION\"], features=[\"LIMIT_BAL\", \"BILL_AMT1\", \n",
    "                                                               \"BILL_AMT2\", \"BILL_AMT3\", \"BILL_AMT4\", \n",
    "                                                               \"BILL_AMT5\", \"BILL_AMT6\"])\n",
    "#classe para filtrar as features que serão usadas como input\n",
    "final_features = fg.FinalFeatures(features=selected_features)"
   ]
  },
  {
   "cell_type": "code",
   "execution_count": 14,
   "id": "c6dc1f8b",
   "metadata": {},
   "outputs": [],
   "source": [
    "#criando input e output\n",
    "X_train, y_train = df_train.drop(columns=[\"ID\", \"target\"], axis=1), df_train.target.values"
   ]
  },
  {
   "cell_type": "code",
   "execution_count": 15,
   "id": "f93e86c6",
   "metadata": {},
   "outputs": [],
   "source": [
    "#inicializando o lightgbm\n",
    "base_estimator = LGBMClassifier(class_weight=\"balanced\",\n",
    "                               random_state=42)"
   ]
  },
  {
   "cell_type": "code",
   "execution_count": 16,
   "id": "062b377d",
   "metadata": {},
   "outputs": [],
   "source": [
    "#definindo o nosso pipeline com as transformações e o algoritmo final\n",
    "pipe = Pipeline(steps=[(\"FeatureByFeature\", fbf),\n",
    "                      (\"diff_features1\", diff1),\n",
    "                      (\"diff_features2\", diff2),\n",
    "                      (\"aggrouped_features\", agpf),\n",
    "                      (\"FinalFeatures\", final_features),\n",
    "                      (\"Estimator\", base_estimator)])"
   ]
  },
  {
   "cell_type": "code",
   "execution_count": 9,
   "id": "ce506ec9",
   "metadata": {},
   "outputs": [],
   "source": [
    "#vamos utilizar a validação cruzada para avaliar o modelo em diferentes partições do dataset\n",
    "cross_val = StratifiedKFold(n_splits=5, shuffle=True, random_state=42)"
   ]
  },
  {
   "cell_type": "code",
   "execution_count": 17,
   "id": "aa416c6f",
   "metadata": {},
   "outputs": [
    {
     "name": "stdout",
     "output_type": "stream",
     "text": [
      "[0.54536489 0.51815017 0.53200569 0.50986193 0.54518664]\n"
     ]
    }
   ],
   "source": [
    "#resultados da validação cruzada\n",
    "print(cross_val_score(pipe, X_train, y_train, cv=cross_val, scoring=\"f1\"))"
   ]
  },
  {
   "cell_type": "code",
   "execution_count": 18,
   "id": "cd643226",
   "metadata": {},
   "outputs": [
    {
     "name": "stdout",
     "output_type": "stream",
     "text": [
      "0.5301138639999999\n"
     ]
    }
   ],
   "source": [
    "#resultado médio da validação cruzada\n",
    "print(np.mean([0.54536489, 0.51815017, 0.53200569, 0.50986193, 0.54518664]))"
   ]
  },
  {
   "cell_type": "code",
   "execution_count": null,
   "id": "d30efa71",
   "metadata": {},
   "outputs": [],
   "source": [
    "#aqui definimos o nosso grid de busca onde o tuning de parametros buscará as melhores combinações\n",
    "distributions = {\"Estimator__n_estimators\": [100, 200, 300, 500, 650, 800, 1000, 1200, 1600, 2000],\n",
    "                \"Estimator__colsample_bytree\": [0.1, 0.2, 0.3, 0.4, 0.5, 0.6, 0.7, 0.8, None],\n",
    "                \"Estimator__max_depth\": [2, 4, 6, 8, 10, 12, 16, None],\n",
    "                \"Estimator__num_leaves\": [8, 10, 12, 16, 20, 31, 41, 51, 61],\n",
    "                \"Estimator__min_child_samples\": [20, 30, 40, 50, 60, 80, 100],\n",
    "                \"Estimator__reg_alpha\": [2, 4, 6, 8, 10, 12, 16],\n",
    "                \"Estimator__reg_lambda\": [2, 4, 6, 8, 10, 12, 16],\n",
    "                \"Estimator__learning_rate\": [0.3, 0.1, 0.08, 0.06, 0.04, 0.03, 0.02, 0.01, 0.008, 0.005]}"
   ]
  },
  {
   "cell_type": "code",
   "execution_count": null,
   "id": "c65da6b2",
   "metadata": {},
   "outputs": [],
   "source": [
    "#inicializando o random search\n",
    "clf = RandomizedSearchCV(pipe, distributions, cv=cross_val, scoring=\"f1\")"
   ]
  },
  {
   "cell_type": "code",
   "execution_count": null,
   "id": "f514f6c6",
   "metadata": {},
   "outputs": [],
   "source": [
    "#fit\n",
    "clf.fit(X_train, y_train)"
   ]
  },
  {
   "cell_type": "code",
   "execution_count": null,
   "id": "29afb447",
   "metadata": {},
   "outputs": [],
   "source": [
    "#Vamos analisar os 3 melhores resultados e ver  os parâmetros que iremos utilizar adiante\n",
    "results = pd.DataFrame(clf.cv_results_)\n",
    "results = results.sort_values(by=\"rank_test_score\", ascending=True)\n",
    "results.head(3)"
   ]
  },
  {
   "cell_type": "code",
   "execution_count": null,
   "id": "d25c451a",
   "metadata": {
    "scrolled": true
   },
   "outputs": [],
   "source": [
    "#melhores parametros do processo de tuning\n",
    "clf.best_params_"
   ]
  },
  {
   "cell_type": "code",
   "execution_count": null,
   "id": "c2c252c7",
   "metadata": {},
   "outputs": [],
   "source": [
    "#criando nosso dicionário de parâmetros para configurar o modelo\n",
    "selected_params = {'reg_lambda': 10,\n",
    " 'reg_alpha': 2,\n",
    " 'num_leaves': 12,\n",
    " 'n_estimators': 800,\n",
    " 'min_child_samples': 40,\n",
    " 'max_depth': 2,\n",
    " 'learning_rate': 0.02,\n",
    " 'colsample_bytree': None}"
   ]
  },
  {
   "cell_type": "code",
   "execution_count": null,
   "id": "d223b7b6",
   "metadata": {},
   "outputs": [],
   "source": [
    "#inicializando um novo lightgbm, agora com os parâmetros escolhidos\n",
    "estimator = LGBMClassifier(**selected_params,\n",
    "                           class_weight=\"balanced\",\n",
    "                           random_state=42)"
   ]
  },
  {
   "cell_type": "code",
   "execution_count": null,
   "id": "8bfdb1e6",
   "metadata": {},
   "outputs": [],
   "source": [
    "#configurando o pipeline com o novo modelo inicializado\n",
    "pipe = Pipeline(steps=[(\"FeatureByFeature\", fbf),\n",
    "                      (\"diff_features1\", diff1),\n",
    "                      (\"diff_features2\", diff2),\n",
    "                      (\"aggrouped_features\", agpf),\n",
    "                      (\"FinalFeatures\", final_features),\n",
    "                      (\"Estimator\", estimator)])"
   ]
  },
  {
   "cell_type": "code",
   "execution_count": null,
   "id": "e1a84bd0",
   "metadata": {},
   "outputs": [],
   "source": [
    "#usando a validação cruzada para avaliar o novo modelo\n",
    "print(cross_val_score(pipe, X_train, y_train, cv=cross_val, scoring=\"f1\"))"
   ]
  },
  {
   "cell_type": "code",
   "execution_count": null,
   "id": "fcecdad0",
   "metadata": {},
   "outputs": [],
   "source": [
    "#resultado médio da validação cruzada\n",
    "print(np.mean([0.54968492, 0.50482625, 0.53438662, 0.53012048, 0.55875183]))"
   ]
  },
  {
   "cell_type": "markdown",
   "id": "38bf2365",
   "metadata": {},
   "source": [
    "Parece que obtivemos um resultado melhor com o novo modelo em comparação com o modelo default, então vamos seguir utilizando-o adiante."
   ]
  },
  {
   "cell_type": "markdown",
   "id": "eba3e88f",
   "metadata": {},
   "source": [
    "### Seleção de threshold\n",
    "\n",
    "Outro parâmetro importante em um modelo de classificação é o threshold de probabilidade que o modelo está utilizando para decidir se um determinado input deve ser classificado como 0 ou 1. Aqui vamos avaliar em que valor esse corte deve estar para gerar os melhores resultados"
   ]
  },
  {
   "cell_type": "code",
   "execution_count": null,
   "id": "2f00854c",
   "metadata": {},
   "outputs": [],
   "source": [
    "#função para converter probabilidade para classe\n",
    "def prob2class(value, thresh):\n",
    "    if value > thresh:\n",
    "        return 1\n",
    "    else:\n",
    "        return 0"
   ]
  },
  {
   "cell_type": "code",
   "execution_count": null,
   "id": "150bd872",
   "metadata": {},
   "outputs": [],
   "source": [
    "#vamos carregar uma base de validação para fazer o ajuste de threshold\n",
    "eval_set = pd.read_csv(\"../inputs/validation.csv\")"
   ]
  },
  {
   "cell_type": "code",
   "execution_count": null,
   "id": "6691e545",
   "metadata": {},
   "outputs": [],
   "source": [
    "#criando input e output de validação\n",
    "X_val, y_val = eval_set.drop(columns=\"target\", axis=1), eval_set.target.values"
   ]
  },
  {
   "cell_type": "code",
   "execution_count": null,
   "id": "16bee49f",
   "metadata": {},
   "outputs": [],
   "source": [
    "#fit do pipeline nos dados de treino\n",
    "pipe.fit(X_train, y_train)"
   ]
  },
  {
   "cell_type": "code",
   "execution_count": null,
   "id": "351be941",
   "metadata": {},
   "outputs": [],
   "source": [
    "#gerando as predições de probabilidade\n",
    "#vamos criar uma coluna que contém as probabilidades como informação\n",
    "y_proba = pipe.predict_proba(X_val)\n",
    "y_proba = [p[1] for p in y_proba]\n",
    "X_val[\"probability\"] = y_proba"
   ]
  },
  {
   "cell_type": "code",
   "execution_count": null,
   "id": "e649f2c8",
   "metadata": {},
   "outputs": [],
   "source": [
    "#definindo o espaço de análise dos thresholds\n",
    "thresholds = [0.3, 0.35, 0.4, 0.45, 0.5, 0.55, 0.6, 0.65, 0.7, 0.75, 0.8, 0.85]\n",
    "f1s = []"
   ]
  },
  {
   "cell_type": "code",
   "execution_count": null,
   "id": "a50ee826",
   "metadata": {},
   "outputs": [],
   "source": [
    "#laço para calcular a performance do modelo em diferentes thresholds\n",
    "for t in thresholds:\n",
    "    X_val[\"prediction\"] = X_val.apply(lambda x: prob2class(x[\"probability\"], thresh=t), axis=1)\n",
    "    y_pred = X_val[\"prediction\"].values\n",
    "    \n",
    "    f1 = f1_score(y_val, y_pred)\n",
    "    f1s.append(f1)"
   ]
  },
  {
   "cell_type": "code",
   "execution_count": null,
   "id": "28a34d4c",
   "metadata": {},
   "outputs": [],
   "source": [
    "#plotando o gráfico de threshold vs f1\n",
    "plt.figure(figsize=(10, 4))\n",
    "sns.lineplot(x=thresholds, y=f1s, marker='o')\n",
    "plt.xlabel(\"thresholds\")\n",
    "plt.ylabel(\"f1_score\")\n",
    "plt.title(\"Threshold selection for f1_score\")"
   ]
  },
  {
   "cell_type": "markdown",
   "id": "a5a0b2a1",
   "metadata": {},
   "source": [
    "O nosso threshold final então está em 0.55. Note que a definição do threshold foi realizada com base em um dataset de validação. Nesse caso, o mais seria ter uma terceira partiçao de dados para avaliar o quanto que, nessas condições que foram encontradas, o modelo é capaz de generalizar em dados nunca vistos."
   ]
  },
  {
   "cell_type": "markdown",
   "id": "3490a4e3",
   "metadata": {},
   "source": [
    "# Outras abordagens\n",
    "\n",
    "Para tentar incrementar a performance do nosso modelo, poderíamos testar outras técnicas como as arquiteturas de ensemble, como voting e stacking utilizando outros modelos como catboost e xgboost em combinação com o lightgbm."
   ]
  },
  {
   "cell_type": "code",
   "execution_count": null,
   "id": "3cea1901",
   "metadata": {},
   "outputs": [],
   "source": []
  }
 ],
 "metadata": {
  "kernelspec": {
   "display_name": "Python 3 (ipykernel)",
   "language": "python",
   "name": "python3"
  },
  "language_info": {
   "codemirror_mode": {
    "name": "ipython",
    "version": 3
   },
   "file_extension": ".py",
   "mimetype": "text/x-python",
   "name": "python",
   "nbconvert_exporter": "python",
   "pygments_lexer": "ipython3",
   "version": "3.9.13"
  }
 },
 "nbformat": 4,
 "nbformat_minor": 5
}
