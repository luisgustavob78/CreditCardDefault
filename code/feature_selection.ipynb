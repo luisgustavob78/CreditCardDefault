{
 "cells": [
  {
   "cell_type": "code",
   "execution_count": 1,
   "id": "416519fd",
   "metadata": {},
   "outputs": [],
   "source": [
    "import pandas as pd\n",
    "import numpy as np\n",
    "\n",
    "import matplotlib.pyplot as plt\n",
    "import seaborn as sns\n",
    "\n",
    "from sklearn.metrics import f1_score, recall_score, precision_score\n",
    "from sklearn.pipeline import Pipeline\n",
    "\n",
    "import FeatureGenerator as fg\n",
    "\n",
    "from lightgbm import LGBMClassifier"
   ]
  },
  {
   "cell_type": "code",
   "execution_count": 2,
   "id": "9f2ae495",
   "metadata": {},
   "outputs": [
    {
     "data": {
      "text/html": [
       "<div>\n",
       "<style scoped>\n",
       "    .dataframe tbody tr th:only-of-type {\n",
       "        vertical-align: middle;\n",
       "    }\n",
       "\n",
       "    .dataframe tbody tr th {\n",
       "        vertical-align: top;\n",
       "    }\n",
       "\n",
       "    .dataframe thead th {\n",
       "        text-align: right;\n",
       "    }\n",
       "</style>\n",
       "<table border=\"1\" class=\"dataframe\">\n",
       "  <thead>\n",
       "    <tr style=\"text-align: right;\">\n",
       "      <th></th>\n",
       "      <th>ID</th>\n",
       "      <th>LIMIT_BAL</th>\n",
       "      <th>SEX</th>\n",
       "      <th>EDUCATION</th>\n",
       "      <th>MARRIAGE</th>\n",
       "      <th>AGE</th>\n",
       "      <th>PAY_0</th>\n",
       "      <th>PAY_2</th>\n",
       "      <th>PAY_3</th>\n",
       "      <th>PAY_4</th>\n",
       "      <th>...</th>\n",
       "      <th>BILL_AMT4</th>\n",
       "      <th>BILL_AMT5</th>\n",
       "      <th>BILL_AMT6</th>\n",
       "      <th>PAY_AMT1</th>\n",
       "      <th>PAY_AMT2</th>\n",
       "      <th>PAY_AMT3</th>\n",
       "      <th>PAY_AMT4</th>\n",
       "      <th>PAY_AMT5</th>\n",
       "      <th>PAY_AMT6</th>\n",
       "      <th>target</th>\n",
       "    </tr>\n",
       "  </thead>\n",
       "  <tbody>\n",
       "    <tr>\n",
       "      <th>0</th>\n",
       "      <td>28104</td>\n",
       "      <td>50000.0</td>\n",
       "      <td>2</td>\n",
       "      <td>1</td>\n",
       "      <td>1</td>\n",
       "      <td>31</td>\n",
       "      <td>1</td>\n",
       "      <td>2</td>\n",
       "      <td>2</td>\n",
       "      <td>0</td>\n",
       "      <td>...</td>\n",
       "      <td>50332.0</td>\n",
       "      <td>29690.0</td>\n",
       "      <td>30246.0</td>\n",
       "      <td>2200.0</td>\n",
       "      <td>4.0</td>\n",
       "      <td>2300.0</td>\n",
       "      <td>1100.0</td>\n",
       "      <td>1400.0</td>\n",
       "      <td>1200.0</td>\n",
       "      <td>1</td>\n",
       "    </tr>\n",
       "    <tr>\n",
       "      <th>1</th>\n",
       "      <td>29094</td>\n",
       "      <td>330000.0</td>\n",
       "      <td>2</td>\n",
       "      <td>2</td>\n",
       "      <td>2</td>\n",
       "      <td>59</td>\n",
       "      <td>0</td>\n",
       "      <td>0</td>\n",
       "      <td>0</td>\n",
       "      <td>0</td>\n",
       "      <td>...</td>\n",
       "      <td>80589.0</td>\n",
       "      <td>76180.0</td>\n",
       "      <td>61693.0</td>\n",
       "      <td>20000.0</td>\n",
       "      <td>3500.0</td>\n",
       "      <td>19000.0</td>\n",
       "      <td>15000.0</td>\n",
       "      <td>3000.0</td>\n",
       "      <td>2139.0</td>\n",
       "      <td>0</td>\n",
       "    </tr>\n",
       "    <tr>\n",
       "      <th>2</th>\n",
       "      <td>11280</td>\n",
       "      <td>220000.0</td>\n",
       "      <td>2</td>\n",
       "      <td>1</td>\n",
       "      <td>2</td>\n",
       "      <td>41</td>\n",
       "      <td>-1</td>\n",
       "      <td>-1</td>\n",
       "      <td>-2</td>\n",
       "      <td>-2</td>\n",
       "      <td>...</td>\n",
       "      <td>0.0</td>\n",
       "      <td>0.0</td>\n",
       "      <td>0.0</td>\n",
       "      <td>0.0</td>\n",
       "      <td>0.0</td>\n",
       "      <td>0.0</td>\n",
       "      <td>0.0</td>\n",
       "      <td>0.0</td>\n",
       "      <td>0.0</td>\n",
       "      <td>0</td>\n",
       "    </tr>\n",
       "    <tr>\n",
       "      <th>3</th>\n",
       "      <td>28435</td>\n",
       "      <td>50000.0</td>\n",
       "      <td>2</td>\n",
       "      <td>2</td>\n",
       "      <td>1</td>\n",
       "      <td>45</td>\n",
       "      <td>0</td>\n",
       "      <td>0</td>\n",
       "      <td>0</td>\n",
       "      <td>0</td>\n",
       "      <td>...</td>\n",
       "      <td>8469.0</td>\n",
       "      <td>8411.0</td>\n",
       "      <td>8361.0</td>\n",
       "      <td>2124.0</td>\n",
       "      <td>2037.0</td>\n",
       "      <td>1130.0</td>\n",
       "      <td>295.0</td>\n",
       "      <td>302.0</td>\n",
       "      <td>296.0</td>\n",
       "      <td>0</td>\n",
       "    </tr>\n",
       "    <tr>\n",
       "      <th>4</th>\n",
       "      <td>10873</td>\n",
       "      <td>480000.0</td>\n",
       "      <td>2</td>\n",
       "      <td>3</td>\n",
       "      <td>1</td>\n",
       "      <td>42</td>\n",
       "      <td>-2</td>\n",
       "      <td>-2</td>\n",
       "      <td>-2</td>\n",
       "      <td>-2</td>\n",
       "      <td>...</td>\n",
       "      <td>0.0</td>\n",
       "      <td>790.0</td>\n",
       "      <td>0.0</td>\n",
       "      <td>0.0</td>\n",
       "      <td>0.0</td>\n",
       "      <td>0.0</td>\n",
       "      <td>790.0</td>\n",
       "      <td>0.0</td>\n",
       "      <td>0.0</td>\n",
       "      <td>0</td>\n",
       "    </tr>\n",
       "  </tbody>\n",
       "</table>\n",
       "<p>5 rows × 25 columns</p>\n",
       "</div>"
      ],
      "text/plain": [
       "      ID  LIMIT_BAL  SEX  EDUCATION  MARRIAGE  AGE  PAY_0  PAY_2  PAY_3  \\\n",
       "0  28104    50000.0    2          1         1   31      1      2      2   \n",
       "1  29094   330000.0    2          2         2   59      0      0      0   \n",
       "2  11280   220000.0    2          1         2   41     -1     -1     -2   \n",
       "3  28435    50000.0    2          2         1   45      0      0      0   \n",
       "4  10873   480000.0    2          3         1   42     -2     -2     -2   \n",
       "\n",
       "   PAY_4  ...  BILL_AMT4  BILL_AMT5  BILL_AMT6  PAY_AMT1  PAY_AMT2  PAY_AMT3  \\\n",
       "0      0  ...    50332.0    29690.0    30246.0    2200.0       4.0    2300.0   \n",
       "1      0  ...    80589.0    76180.0    61693.0   20000.0    3500.0   19000.0   \n",
       "2     -2  ...        0.0        0.0        0.0       0.0       0.0       0.0   \n",
       "3      0  ...     8469.0     8411.0     8361.0    2124.0    2037.0    1130.0   \n",
       "4     -2  ...        0.0      790.0        0.0       0.0       0.0       0.0   \n",
       "\n",
       "   PAY_AMT4  PAY_AMT5  PAY_AMT6  target  \n",
       "0    1100.0    1400.0    1200.0       1  \n",
       "1   15000.0    3000.0    2139.0       0  \n",
       "2       0.0       0.0       0.0       0  \n",
       "3     295.0     302.0     296.0       0  \n",
       "4     790.0       0.0       0.0       0  \n",
       "\n",
       "[5 rows x 25 columns]"
      ]
     },
     "execution_count": 2,
     "metadata": {},
     "output_type": "execute_result"
    }
   ],
   "source": [
    "data_path = \"../inputs/train.csv\"\n",
    "df_train = pd.read_csv(data_path)\n",
    "df_train.head()"
   ]
  },
  {
   "cell_type": "code",
   "execution_count": 3,
   "id": "72c3f36b",
   "metadata": {},
   "outputs": [],
   "source": [
    "#selecionando as variáveis categóricas para definir no modelo\n",
    "cat_cols = ['SEX',\n",
    " 'EDUCATION',\n",
    " 'MARRIAGE',\n",
    " 'PAY_0',\n",
    " 'PAY_2',\n",
    " 'PAY_3',\n",
    " 'PAY_4',\n",
    " 'PAY_5',\n",
    " 'PAY_6']"
   ]
  },
  {
   "cell_type": "code",
   "execution_count": 4,
   "id": "cda8670c",
   "metadata": {},
   "outputs": [],
   "source": [
    "#inicializando as classes que serão utilizadas para geração de features\n",
    "fbf = fg.FeatureByFeature(features_num=[\"PAY_AMT1\", \"PAY_AMT2\", \"PAY_AMT3\", \"PAY_AMT4\", \"PAY_AMT5\", \"PAY_AMT6\"],\n",
    "                         features_denom=[\"BILL_AMT1\", \"BILL_AMT2\", \"BILL_AMT3\", \"BILL_AMT4\", \"BILL_AMT5\", \"BILL_AMT6\"])\n",
    "\n",
    "diff1 = fg.DiffFeatures(features=[\"PAY_AMT1\", \"PAY_AMT2\", \"PAY_AMT3\", \"PAY_AMT4\", \"PAY_AMT5\", \"PAY_AMT6\"])\n",
    "\n",
    "diff2 = fg.DiffFeatures(features=[\"BILL_AMT1\", \"BILL_AMT2\", \"BILL_AMT3\", \"BILL_AMT4\", \"BILL_AMT5\", \"BILL_AMT6\"])\n",
    "\n",
    "agpf = fg.GroupFeatures(group_columns=[\"EDUCATION\"], features=[\"LIMIT_BAL\", \"BILL_AMT1\", \n",
    "                                                               \"BILL_AMT2\", \"BILL_AMT3\", \"BILL_AMT4\", \n",
    "                                                               \"BILL_AMT5\", \"BILL_AMT6\"])"
   ]
  },
  {
   "cell_type": "code",
   "execution_count": 6,
   "id": "c6dc1f8b",
   "metadata": {},
   "outputs": [],
   "source": [
    "X_train, y_train = df_train.drop(columns=[\"ID\", \"target\"], axis=1), df_train.target.values"
   ]
  },
  {
   "cell_type": "code",
   "execution_count": 7,
   "id": "d4dc2bab",
   "metadata": {},
   "outputs": [],
   "source": [
    "fbf.fit(X_train)\n",
    "X_train = fbf.transform(X_train)"
   ]
  },
  {
   "cell_type": "code",
   "execution_count": 8,
   "id": "5d90b244",
   "metadata": {},
   "outputs": [],
   "source": [
    "diff1.fit(X_train)\n",
    "X_train = diff1.transform(X_train)"
   ]
  },
  {
   "cell_type": "code",
   "execution_count": 9,
   "id": "73c93b50",
   "metadata": {},
   "outputs": [],
   "source": [
    "diff2.fit(X_train)\n",
    "X_train = diff2.transform(X_train)"
   ]
  },
  {
   "cell_type": "code",
   "execution_count": 10,
   "id": "d22c6b5b",
   "metadata": {},
   "outputs": [],
   "source": [
    "agpf.fit(X_train)\n",
    "X_train = agpf.transform(X_train)"
   ]
  },
  {
   "cell_type": "code",
   "execution_count": 11,
   "id": "f5260451",
   "metadata": {},
   "outputs": [],
   "source": [
    "#o lightgbm só aceita index para identificação das colunas categoricas\n",
    "cat_idx = []\n",
    "for c in cat_cols:\n",
    "    idx = X_train.columns.get_loc(c)\n",
    "    cat_idx.append(idx)"
   ]
  },
  {
   "cell_type": "code",
   "execution_count": 12,
   "id": "f93e86c6",
   "metadata": {},
   "outputs": [],
   "source": [
    "base_estimator = LGBMClassifier(class_weight=\"balanced\",\n",
    "                               categorical_features=cat_idx,\n",
    "                               random_state=42)"
   ]
  },
  {
   "cell_type": "code",
   "execution_count": 13,
   "id": "1a2a41f1",
   "metadata": {},
   "outputs": [
    {
     "data": {
      "text/plain": [
       "LGBMClassifier(categorical_features=[1, 2, 3, 5, 6, 7, 8, 9, 10],\n",
       "               class_weight='balanced', random_state=42)"
      ]
     },
     "execution_count": 13,
     "metadata": {},
     "output_type": "execute_result"
    }
   ],
   "source": [
    "base_estimator.fit(X_train, y_train)"
   ]
  },
  {
   "cell_type": "code",
   "execution_count": 17,
   "id": "cb06acf9",
   "metadata": {},
   "outputs": [
    {
     "data": {
      "text/html": [
       "<div>\n",
       "<style scoped>\n",
       "    .dataframe tbody tr th:only-of-type {\n",
       "        vertical-align: middle;\n",
       "    }\n",
       "\n",
       "    .dataframe tbody tr th {\n",
       "        vertical-align: top;\n",
       "    }\n",
       "\n",
       "    .dataframe thead th {\n",
       "        text-align: right;\n",
       "    }\n",
       "</style>\n",
       "<table border=\"1\" class=\"dataframe\">\n",
       "  <thead>\n",
       "    <tr style=\"text-align: right;\">\n",
       "      <th></th>\n",
       "      <th>cols</th>\n",
       "      <th>fea_imp</th>\n",
       "    </tr>\n",
       "  </thead>\n",
       "  <tbody>\n",
       "    <tr>\n",
       "      <th>34</th>\n",
       "      <td>BILL_AMT2_minus_BILL_AMT1</td>\n",
       "      <td>121</td>\n",
       "    </tr>\n",
       "    <tr>\n",
       "      <th>27</th>\n",
       "      <td>PAY_AMT5/BILL_AMT5</td>\n",
       "      <td>115</td>\n",
       "    </tr>\n",
       "    <tr>\n",
       "      <th>28</th>\n",
       "      <td>PAY_AMT6/BILL_AMT6</td>\n",
       "      <td>109</td>\n",
       "    </tr>\n",
       "    <tr>\n",
       "      <th>35</th>\n",
       "      <td>BILL_AMT3_minus_BILL_AMT2</td>\n",
       "      <td>104</td>\n",
       "    </tr>\n",
       "    <tr>\n",
       "      <th>26</th>\n",
       "      <td>PAY_AMT4/BILL_AMT4</td>\n",
       "      <td>96</td>\n",
       "    </tr>\n",
       "    <tr>\n",
       "      <th>...</th>\n",
       "      <td>...</td>\n",
       "      <td>...</td>\n",
       "    </tr>\n",
       "    <tr>\n",
       "      <th>46</th>\n",
       "      <td>EDUCATION_LIMIT_BAL_max</td>\n",
       "      <td>4</td>\n",
       "    </tr>\n",
       "    <tr>\n",
       "      <th>47</th>\n",
       "      <td>EDUCATION_BILL_AMT1_max</td>\n",
       "      <td>3</td>\n",
       "    </tr>\n",
       "    <tr>\n",
       "      <th>40</th>\n",
       "      <td>EDUCATION_BILL_AMT1_mean</td>\n",
       "      <td>3</td>\n",
       "    </tr>\n",
       "    <tr>\n",
       "      <th>39</th>\n",
       "      <td>EDUCATION_LIMIT_BAL_mean</td>\n",
       "      <td>2</td>\n",
       "    </tr>\n",
       "    <tr>\n",
       "      <th>54</th>\n",
       "      <td>EDUCATION_BILL_AMT1_min</td>\n",
       "      <td>2</td>\n",
       "    </tr>\n",
       "  </tbody>\n",
       "</table>\n",
       "<p>66 rows × 2 columns</p>\n",
       "</div>"
      ],
      "text/plain": [
       "                         cols  fea_imp\n",
       "34  BILL_AMT2_minus_BILL_AMT1      121\n",
       "27         PAY_AMT5/BILL_AMT5      115\n",
       "28         PAY_AMT6/BILL_AMT6      109\n",
       "35  BILL_AMT3_minus_BILL_AMT2      104\n",
       "26         PAY_AMT4/BILL_AMT4       96\n",
       "..                        ...      ...\n",
       "46    EDUCATION_LIMIT_BAL_max        4\n",
       "47    EDUCATION_BILL_AMT1_max        3\n",
       "40   EDUCATION_BILL_AMT1_mean        3\n",
       "39   EDUCATION_LIMIT_BAL_mean        2\n",
       "54    EDUCATION_BILL_AMT1_min        2\n",
       "\n",
       "[66 rows x 2 columns]"
      ]
     },
     "execution_count": 17,
     "metadata": {},
     "output_type": "execute_result"
    }
   ],
   "source": [
    "# importance of each attribute\n",
    "fea_imp_ = pd.DataFrame({'cols':X_train.columns, 'fea_imp':base_estimator.feature_importances_})\n",
    "fea_imp_.loc[fea_imp_.fea_imp > 0].sort_values(by=['fea_imp'], ascending = False)"
   ]
  },
  {
   "cell_type": "code",
   "execution_count": 18,
   "id": "8d38232a",
   "metadata": {},
   "outputs": [],
   "source": [
    "fea_imp_ = fea_imp_.sort_values(by=\"fea_imp\", ascending=False)\n",
    "fea_imp_ = fea_imp_.reset_index(drop=True)"
   ]
  },
  {
   "cell_type": "code",
   "execution_count": 19,
   "id": "29f6ceef",
   "metadata": {},
   "outputs": [],
   "source": [
    "total_importance = fea_imp_[\"fea_imp\"].sum()\n",
    "fea_imp_[\"total_importance\"] = total_importance\n",
    "fea_imp_[\"cumulative_sum\"] = fea_imp_[\"fea_imp\"].cumsum()\n",
    "fea_imp_[\"relative_cumulative_importance\"] = fea_imp_[\"cumulative_sum\"]/fea_imp_[\"total_importance\"]"
   ]
  },
  {
   "cell_type": "code",
   "execution_count": 20,
   "id": "7f3406dc",
   "metadata": {},
   "outputs": [
    {
     "data": {
      "text/html": [
       "<div>\n",
       "<style scoped>\n",
       "    .dataframe tbody tr th:only-of-type {\n",
       "        vertical-align: middle;\n",
       "    }\n",
       "\n",
       "    .dataframe tbody tr th {\n",
       "        vertical-align: top;\n",
       "    }\n",
       "\n",
       "    .dataframe thead th {\n",
       "        text-align: right;\n",
       "    }\n",
       "</style>\n",
       "<table border=\"1\" class=\"dataframe\">\n",
       "  <thead>\n",
       "    <tr style=\"text-align: right;\">\n",
       "      <th></th>\n",
       "      <th>cols</th>\n",
       "      <th>fea_imp</th>\n",
       "      <th>total_importance</th>\n",
       "      <th>cumulative_sum</th>\n",
       "      <th>relative_cumulative_importance</th>\n",
       "    </tr>\n",
       "  </thead>\n",
       "  <tbody>\n",
       "    <tr>\n",
       "      <th>0</th>\n",
       "      <td>BILL_AMT2_minus_BILL_AMT1</td>\n",
       "      <td>121</td>\n",
       "      <td>3000</td>\n",
       "      <td>121</td>\n",
       "      <td>0.040333</td>\n",
       "    </tr>\n",
       "    <tr>\n",
       "      <th>1</th>\n",
       "      <td>PAY_AMT5/BILL_AMT5</td>\n",
       "      <td>115</td>\n",
       "      <td>3000</td>\n",
       "      <td>236</td>\n",
       "      <td>0.078667</td>\n",
       "    </tr>\n",
       "    <tr>\n",
       "      <th>2</th>\n",
       "      <td>PAY_AMT6/BILL_AMT6</td>\n",
       "      <td>109</td>\n",
       "      <td>3000</td>\n",
       "      <td>345</td>\n",
       "      <td>0.115000</td>\n",
       "    </tr>\n",
       "    <tr>\n",
       "      <th>3</th>\n",
       "      <td>BILL_AMT3_minus_BILL_AMT2</td>\n",
       "      <td>104</td>\n",
       "      <td>3000</td>\n",
       "      <td>449</td>\n",
       "      <td>0.149667</td>\n",
       "    </tr>\n",
       "    <tr>\n",
       "      <th>4</th>\n",
       "      <td>PAY_AMT4/BILL_AMT4</td>\n",
       "      <td>96</td>\n",
       "      <td>3000</td>\n",
       "      <td>545</td>\n",
       "      <td>0.181667</td>\n",
       "    </tr>\n",
       "  </tbody>\n",
       "</table>\n",
       "</div>"
      ],
      "text/plain": [
       "                        cols  fea_imp  total_importance  cumulative_sum  \\\n",
       "0  BILL_AMT2_minus_BILL_AMT1      121              3000             121   \n",
       "1         PAY_AMT5/BILL_AMT5      115              3000             236   \n",
       "2         PAY_AMT6/BILL_AMT6      109              3000             345   \n",
       "3  BILL_AMT3_minus_BILL_AMT2      104              3000             449   \n",
       "4         PAY_AMT4/BILL_AMT4       96              3000             545   \n",
       "\n",
       "   relative_cumulative_importance  \n",
       "0                        0.040333  \n",
       "1                        0.078667  \n",
       "2                        0.115000  \n",
       "3                        0.149667  \n",
       "4                        0.181667  "
      ]
     },
     "execution_count": 20,
     "metadata": {},
     "output_type": "execute_result"
    }
   ],
   "source": [
    "fea_imp_.head()"
   ]
  },
  {
   "cell_type": "code",
   "execution_count": 21,
   "id": "e941ffb4",
   "metadata": {},
   "outputs": [
    {
     "data": {
      "text/plain": [
       "(81, 5)"
      ]
     },
     "execution_count": 21,
     "metadata": {},
     "output_type": "execute_result"
    }
   ],
   "source": [
    "fea_imp_.shape"
   ]
  },
  {
   "cell_type": "code",
   "execution_count": 23,
   "id": "56c8dfa4",
   "metadata": {},
   "outputs": [],
   "source": [
    "df_selection = fea_imp_[fea_imp_[\"relative_cumulative_importance\"] <= 0.82]"
   ]
  },
  {
   "cell_type": "code",
   "execution_count": 24,
   "id": "a70afcf0",
   "metadata": {},
   "outputs": [
    {
     "data": {
      "text/plain": [
       "(34, 5)"
      ]
     },
     "execution_count": 24,
     "metadata": {},
     "output_type": "execute_result"
    }
   ],
   "source": [
    "df_selection.shape"
   ]
  },
  {
   "cell_type": "code",
   "execution_count": 25,
   "id": "a6d19be9",
   "metadata": {},
   "outputs": [
    {
     "data": {
      "text/plain": [
       "['BILL_AMT2_minus_BILL_AMT1',\n",
       " 'PAY_AMT5/BILL_AMT5',\n",
       " 'PAY_AMT6/BILL_AMT6',\n",
       " 'BILL_AMT3_minus_BILL_AMT2',\n",
       " 'PAY_AMT4/BILL_AMT4',\n",
       " 'PAY_AMT1/BILL_AMT1',\n",
       " 'PAY_AMT4_minus_PAY_AMT3',\n",
       " 'PAY_AMT2/BILL_AMT2',\n",
       " 'BILL_AMT5_minus_BILL_AMT4',\n",
       " 'BILL_AMT4_minus_BILL_AMT3',\n",
       " 'AGE',\n",
       " 'BILL_AMT6_minus_BILL_AMT5',\n",
       " 'PAY_AMT3/BILL_AMT3',\n",
       " 'PAY_AMT2_minus_PAY_AMT1',\n",
       " 'PAY_AMT6_minus_PAY_AMT5',\n",
       " 'PAY_AMT5_minus_PAY_AMT4',\n",
       " 'LIMIT_BAL/EDUCATION_max',\n",
       " 'PAY_AMT2',\n",
       " 'PAY_AMT3_minus_PAY_AMT2',\n",
       " 'LIMIT_BAL/EDUCATION_mean',\n",
       " 'PAY_AMT1',\n",
       " 'BILL_AMT5/EDUCATION_min',\n",
       " 'LIMIT_BAL',\n",
       " 'PAY_AMT6',\n",
       " 'PAY_0',\n",
       " 'PAY_AMT3',\n",
       " 'PAY_AMT4',\n",
       " 'BILL_AMT1',\n",
       " 'PAY_AMT5',\n",
       " 'BILL_AMT1/EDUCATION_max',\n",
       " 'BILL_AMT4/EDUCATION_min',\n",
       " 'BILL_AMT2/EDUCATION_min',\n",
       " 'BILL_AMT3/EDUCATION_min',\n",
       " 'BILL_AMT6/EDUCATION_min']"
      ]
     },
     "execution_count": 25,
     "metadata": {},
     "output_type": "execute_result"
    }
   ],
   "source": [
    "final_columns = list(df_selection[\"cols\"].values)\n",
    "final_columns"
   ]
  },
  {
   "cell_type": "code",
   "execution_count": null,
   "id": "683a08e0",
   "metadata": {},
   "outputs": [],
   "source": []
  }
 ],
 "metadata": {
  "kernelspec": {
   "display_name": "Python 3 (ipykernel)",
   "language": "python",
   "name": "python3"
  },
  "language_info": {
   "codemirror_mode": {
    "name": "ipython",
    "version": 3
   },
   "file_extension": ".py",
   "mimetype": "text/x-python",
   "name": "python",
   "nbconvert_exporter": "python",
   "pygments_lexer": "ipython3",
   "version": "3.9.13"
  }
 },
 "nbformat": 4,
 "nbformat_minor": 5
}
